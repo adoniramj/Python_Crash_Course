{
 "cells": [
  {
   "cell_type": "markdown",
   "id": "statistical-lodge",
   "metadata": {},
   "source": [
    "# Python data structures"
   ]
  },
  {
   "cell_type": "markdown",
   "id": "british-gothic",
   "metadata": {},
   "source": [
    "## Tuple\n",
    "\n",
    "A fixed-length, immutable sequence of Python objects. If an object inside a tuple is mutable, you modify it in-place.\n",
    "\n",
    "To convert a sequence to a tuple use `tuple()`"
   ]
  },
  {
   "cell_type": "code",
   "execution_count": 1,
   "id": "anonymous-madness",
   "metadata": {},
   "outputs": [
    {
     "data": {
      "text/plain": [
       "(3, 4, 5)"
      ]
     },
     "execution_count": 1,
     "metadata": {},
     "output_type": "execute_result"
    }
   ],
   "source": [
    "tup = 3,4,5\n",
    "tup"
   ]
  },
  {
   "cell_type": "code",
   "execution_count": 2,
   "id": "taken-wallace",
   "metadata": {},
   "outputs": [
    {
     "data": {
      "text/plain": [
       "('s', 't', 'r', 'i', 'n', 'g')"
      ]
     },
     "execution_count": 2,
     "metadata": {},
     "output_type": "execute_result"
    }
   ],
   "source": [
    "tmp_var = 'string'\n",
    "tup = tuple(tmp_var)\n",
    "tup"
   ]
  },
  {
   "cell_type": "markdown",
   "id": "sudden-circle",
   "metadata": {},
   "source": [
    "## Unpacking\n",
    "\n",
    "A quick way to assign objects of a sequence to variables."
   ]
  },
  {
   "cell_type": "code",
   "execution_count": 3,
   "id": "altered-globe",
   "metadata": {},
   "outputs": [
    {
     "name": "stdout",
     "output_type": "stream",
     "text": [
      "1\n",
      "2 3\n"
     ]
    }
   ],
   "source": [
    "tup = 1,2,3\n",
    "a, *_ = tup\n",
    "print(a)\n",
    "print(*_)"
   ]
  },
  {
   "cell_type": "markdown",
   "id": "protecting-sewing",
   "metadata": {},
   "source": [
    "## Variable swap"
   ]
  },
  {
   "cell_type": "code",
   "execution_count": 4,
   "id": "rubber-growing",
   "metadata": {},
   "outputs": [
    {
     "name": "stdout",
     "output_type": "stream",
     "text": [
      "10\n",
      "1\n"
     ]
    }
   ],
   "source": [
    "a = 1\n",
    "b = 10\n",
    "\n",
    "b, a = a, b\n",
    "print(a)\n",
    "print(b)"
   ]
  },
  {
   "cell_type": "markdown",
   "id": "narrative-analysis",
   "metadata": {},
   "source": [
    "## Lists\n",
    "\n",
    "A variable length sequence of Python objects. You can modify the objects in-place. To create a list use `[]`."
   ]
  },
  {
   "cell_type": "code",
   "execution_count": 5,
   "id": "continuing-representative",
   "metadata": {},
   "outputs": [
    {
     "data": {
      "text/plain": [
       "[2, 3, 7, None]"
      ]
     },
     "execution_count": 5,
     "metadata": {},
     "output_type": "execute_result"
    }
   ],
   "source": [
    "a_list = [2,3,7, None]\n",
    "a_list"
   ]
  },
  {
   "cell_type": "markdown",
   "id": "hourly-description",
   "metadata": {},
   "source": [
    "### List methods\n",
    "\n",
    "- `.append()` to insert a new value at the end.\n",
    "- `.insert()` to insert a new values in a specific position.\n",
    "- `.pop()` to remove an element from a list. To remove a specific object use the index number. The default behavior to remove the last value.\n",
    "- `.remove()` to remove an object by value. Only removes the first occurrence.\n",
    "- `.extend()` to add multiple elements to a list.\n",
    "- `.sort()` will sort a list in-place. Handles a key argument."
   ]
  },
  {
   "cell_type": "markdown",
   "id": "breeding-server",
   "metadata": {},
   "source": [
    "###  Checking whether a list contains a value\n",
    "\n",
    "Use:\n",
    "- `in`\n",
    "- `not in`"
   ]
  },
  {
   "cell_type": "markdown",
   "id": "sealed-memory",
   "metadata": {},
   "source": [
    "### Built-in bisect module for sorted lists\n",
    "\n",
    "`bisect.bisect(a_list, 2)` finds the position in a sorted list to insert a value and maintain the list ordered. `.bisect` only finds the position, it does not insert the value. To insert a value use `bisect.insort()`."
   ]
  },
  {
   "cell_type": "markdown",
   "id": "associate-interstate",
   "metadata": {},
   "source": [
    "### Slicing\n",
    "Slicing is the action of a selecting a section from a list.  The syntax is `a_list[start:stop:step]`. The stop position is not included in the returned selection.\n",
    "\n",
    "To reverse a list you can use `a_list[::-1]`."
   ]
  },
  {
   "cell_type": "markdown",
   "id": "labeled-popularity",
   "metadata": {},
   "source": [
    "## Built-in sequence functions"
   ]
  },
  {
   "cell_type": "markdown",
   "id": "balanced-database",
   "metadata": {},
   "source": [
    "### enumerate()\n",
    "The enumerate function keeps track of the index of the current value and the value when iterating over a sequence. \n",
    "\n",
    "`for i, value in enumerate(collection):\n",
    "    # do something with value`"
   ]
  },
  {
   "cell_type": "markdown",
   "id": "portable-thomas",
   "metadata": {},
   "source": [
    "### sorted()\n",
    "\n",
    "The sorted function returns a new sorted sequence."
   ]
  },
  {
   "cell_type": "code",
   "execution_count": 6,
   "id": "sexual-roman",
   "metadata": {},
   "outputs": [
    {
     "name": "stdout",
     "output_type": "stream",
     "text": [
      "[' ', 'a', 'g', 'i', 'n', 'r', 's', 't'] \n",
      "\n",
      "notice that a is not modified.\n",
      "\n",
      "['a', ' ', 's', 't', 'r', 'i', 'n', 'g']\n"
     ]
    }
   ],
   "source": [
    "a = 'a string'\n",
    "a = list(a)\n",
    "print(sorted(a),'\\n')\n",
    "print('notice that a is not modified.\\n')\n",
    "# notice that a is not modified.\n",
    "print(a)\n"
   ]
  },
  {
   "cell_type": "markdown",
   "id": "lined-messenger",
   "metadata": {},
   "source": [
    "### zip()\n",
    "\n",
    "The zip function \"pairs up\" elements of a group of sequences. This function returns an iterator."
   ]
  },
  {
   "cell_type": "code",
   "execution_count": 7,
   "id": "accessible-timeline",
   "metadata": {},
   "outputs": [
    {
     "data": {
      "text/plain": [
       "[('a', 1), ('b', 2), ('c', 3)]"
      ]
     },
     "execution_count": 7,
     "metadata": {},
     "output_type": "execute_result"
    }
   ],
   "source": [
    "seq1 = ['a', 'b', 'c']\n",
    "seq2 = [1, 2, 3]\n",
    "zipped = zip(seq1, seq2)\n",
    "list(zipped)"
   ]
  },
  {
   "cell_type": "markdown",
   "id": "collectible-prescription",
   "metadata": {},
   "source": [
    "### reversed()\n",
    "\n",
    "Iterates over the elements of a sequence in reversed order. `reversed` is a generator."
   ]
  },
  {
   "cell_type": "code",
   "execution_count": 8,
   "id": "constant-navigation",
   "metadata": {},
   "outputs": [
    {
     "name": "stdout",
     "output_type": "stream",
     "text": [
      "['zero', 'two', 'four', 'five', 'three', 'one'] \n",
      "\n",
      "reversed does not modify the original list.\n",
      "\n",
      "['one', 'three', 'five', 'four', 'two', 'zero']\n"
     ]
    }
   ],
   "source": [
    "a_list = ['one', 'three', 'five', 'four', 'two', 'zero']\n",
    "print(list(reversed(a_list)),'\\n')\n",
    "print('reversed does not modify the original list.\\n')\n",
    "print(a_list)"
   ]
  },
  {
   "cell_type": "markdown",
   "id": "cheap-share",
   "metadata": {},
   "source": [
    "## Dict\n",
    "\n",
    "A dict is a collection of key-value pairs. Each key and value are Python objects. To create a dict use `{}`."
   ]
  },
  {
   "cell_type": "code",
   "execution_count": 9,
   "id": "isolated-concert",
   "metadata": {},
   "outputs": [],
   "source": [
    "a_dict = {\n",
    "    'a' :'a string',\n",
    "    'b' : [1,2,3,4],\n",
    "    'c' : 100,\n",
    "    'd' : {\n",
    "        'a' : 200\n",
    "    }\n",
    "}"
   ]
  },
  {
   "cell_type": "markdown",
   "id": "extreme-might",
   "metadata": {},
   "source": [
    "To access a value use the key:"
   ]
  },
  {
   "cell_type": "code",
   "execution_count": 10,
   "id": "binary-battery",
   "metadata": {},
   "outputs": [
    {
     "data": {
      "text/plain": [
       "100"
      ]
     },
     "execution_count": 10,
     "metadata": {},
     "output_type": "execute_result"
    }
   ],
   "source": [
    "a_dict['c']"
   ]
  },
  {
   "cell_type": "markdown",
   "id": "guided-finger",
   "metadata": {},
   "source": [
    "To add another key:value pair:"
   ]
  },
  {
   "cell_type": "code",
   "execution_count": 11,
   "id": "tender-spirituality",
   "metadata": {},
   "outputs": [
    {
     "data": {
      "text/plain": [
       "{'a': 'a string',\n",
       " 'b': [1, 2, 3, 4],\n",
       " 'c': 100,\n",
       " 'd': {'a': 200},\n",
       " 'e': 'I am a new key:value pair'}"
      ]
     },
     "execution_count": 11,
     "metadata": {},
     "output_type": "execute_result"
    }
   ],
   "source": [
    "a_dict['e'] = 'I am a new key:value pair'\n",
    "a_dict"
   ]
  },
  {
   "cell_type": "markdown",
   "id": "vulnerable-forwarding",
   "metadata": {},
   "source": [
    "To remove a key:value pair use `del` or `pop`. These two methods return the value and deletes the key."
   ]
  },
  {
   "cell_type": "code",
   "execution_count": 12,
   "id": "innovative-porter",
   "metadata": {},
   "outputs": [
    {
     "data": {
      "text/plain": [
       "{'a': 'a string',\n",
       " 'b': [1, 2, 3, 4],\n",
       " 'd': {'a': 200},\n",
       " 'e': 'I am a new key:value pair'}"
      ]
     },
     "execution_count": 12,
     "metadata": {},
     "output_type": "execute_result"
    }
   ],
   "source": [
    "del a_dict['c']\n",
    "a_dict"
   ]
  },
  {
   "cell_type": "code",
   "execution_count": 13,
   "id": "associate-chart",
   "metadata": {},
   "outputs": [
    {
     "name": "stdout",
     "output_type": "stream",
     "text": [
      "I am a new key:value pair\n"
     ]
    },
    {
     "data": {
      "text/plain": [
       "{'a': 'a string', 'b': [1, 2, 3, 4], 'd': {'a': 200}}"
      ]
     },
     "execution_count": 13,
     "metadata": {},
     "output_type": "execute_result"
    }
   ],
   "source": [
    "deleted_value = a_dict.pop('e')\n",
    "print(deleted_value)\n",
    "a_dict"
   ]
  },
  {
   "cell_type": "code",
   "execution_count": 14,
   "id": "crazy-representation",
   "metadata": {},
   "outputs": [
    {
     "name": "stdout",
     "output_type": "stream",
     "text": [
      "a\n",
      "a string\n",
      "b\n",
      "[1, 2, 3, 4]\n",
      "d\n",
      "{'a': 200}\n"
     ]
    }
   ],
   "source": [
    "# using items to key track of key and value\n",
    "for key, value in a_dict.items():\n",
    "    print(key)\n",
    "    print(value)"
   ]
  },
  {
   "cell_type": "markdown",
   "id": "typical-identification",
   "metadata": {},
   "source": [
    "### Dict methods\n",
    "\n",
    "- `.keys()` to retrieve the keys.\n",
    "- `.values()` to retrieve the values.\n",
    "- `.update()` to merge dictionaries. In-place modification of the dict. \n",
    "- `.get()` to retrieve a value using a key or return a default value.\n",
    "- `.setdefault()` to set a key and default value\n",
    "- `defaultdict()` import methods from collection module."
   ]
  },
  {
   "cell_type": "code",
   "execution_count": 15,
   "id": "hybrid-editor",
   "metadata": {},
   "outputs": [
    {
     "data": {
      "text/plain": [
       "dict_keys(['a', 'b', 'd'])"
      ]
     },
     "execution_count": 15,
     "metadata": {},
     "output_type": "execute_result"
    }
   ],
   "source": [
    "a_dict.keys()"
   ]
  },
  {
   "cell_type": "code",
   "execution_count": 16,
   "id": "hired-plastic",
   "metadata": {},
   "outputs": [
    {
     "data": {
      "text/plain": [
       "dict_values(['a string', [1, 2, 3, 4], {'a': 200}])"
      ]
     },
     "execution_count": 16,
     "metadata": {},
     "output_type": "execute_result"
    }
   ],
   "source": [
    "a_dict.values()"
   ]
  },
  {
   "cell_type": "code",
   "execution_count": 17,
   "id": "interstate-questionnaire",
   "metadata": {},
   "outputs": [
    {
     "data": {
      "text/plain": [
       "{'a': \"I was a string, now I' a longer string\",\n",
       " 'b': [1, 2, 3, 4],\n",
       " 'd': {'a': 200},\n",
       " 'z': 1000}"
      ]
     },
     "execution_count": 17,
     "metadata": {},
     "output_type": "execute_result"
    }
   ],
   "source": [
    "a_dict.update({'a' : 'I was a string, now I\\' a longer string', 'z' : 1000})\n",
    "a_dict"
   ]
  },
  {
   "cell_type": "markdown",
   "id": "broken-thumb",
   "metadata": {},
   "source": [
    "### Key in dict?"
   ]
  },
  {
   "cell_type": "code",
   "execution_count": 18,
   "id": "alive-affiliation",
   "metadata": {},
   "outputs": [
    {
     "data": {
      "text/plain": [
       "True"
      ]
     },
     "execution_count": 18,
     "metadata": {},
     "output_type": "execute_result"
    }
   ],
   "source": [
    "'a' in a_dict"
   ]
  },
  {
   "cell_type": "code",
   "execution_count": 19,
   "id": "simplified-rebound",
   "metadata": {},
   "outputs": [
    {
     "data": {
      "text/plain": [
       "False"
      ]
     },
     "execution_count": 19,
     "metadata": {},
     "output_type": "execute_result"
    }
   ],
   "source": [
    "'a' not in a_dict"
   ]
  },
  {
   "cell_type": "markdown",
   "id": "abandoned-parish",
   "metadata": {},
   "source": [
    "### Creating a dict from sequences using `zip()`"
   ]
  },
  {
   "cell_type": "code",
   "execution_count": 20,
   "id": "infinite-crossing",
   "metadata": {},
   "outputs": [
    {
     "data": {
      "text/plain": [
       "{'California': 'Sacramento', 'New York': 'Albany', 'Georgia': 'Atlanta'}"
      ]
     },
     "execution_count": 20,
     "metadata": {},
     "output_type": "execute_result"
    }
   ],
   "source": [
    "states = ['California', 'New York', \"Georgia\"]\n",
    "capitals = ['Sacramento', 'Albany', 'Atlanta']\n",
    "\n",
    "mapping = {}\n",
    "for key, value in zip(states, capitals): # think of a dict as a collection of 2-tuples.\n",
    "    mapping[key] = value\n",
    "    \n",
    "mapping"
   ]
  },
  {
   "cell_type": "markdown",
   "id": "theoretical-clinton",
   "metadata": {},
   "source": [
    "### Creating a dict using `dict()` and `zip()`"
   ]
  },
  {
   "cell_type": "code",
   "execution_count": 21,
   "id": "ordinary-package",
   "metadata": {},
   "outputs": [
    {
     "data": {
      "text/plain": [
       "{'Canada': 'Ottawa', 'US': 'Washington D.C.', 'Mexico': 'Mexico City'}"
      ]
     },
     "execution_count": 21,
     "metadata": {},
     "output_type": "execute_result"
    }
   ],
   "source": [
    "countries = ['Canada', 'US', 'Mexico']\n",
    "capitals = ['Ottawa', 'Washington D.C.', 'Mexico City']\n",
    "\n",
    "dict(zip(countries, capitals))"
   ]
  },
  {
   "cell_type": "markdown",
   "id": "outside-sapphire",
   "metadata": {},
   "source": [
    "### Default values"
   ]
  },
  {
   "cell_type": "code",
   "execution_count": 22,
   "id": "owned-scotland",
   "metadata": {},
   "outputs": [
    {
     "name": "stdout",
     "output_type": "stream",
     "text": [
      "Country not present\n"
     ]
    }
   ],
   "source": [
    "countries = ['Canada', 'US', 'Mexico']\n",
    "capitals = ['Ottawa', 'Washington D.C.', 'Mexico City']\n",
    "\n",
    "countries = dict(zip(countries, capitals))\n",
    "\n",
    "search_key = \"Brasil\"\n",
    "if search_key in countries:\n",
    "    value = countries[search_key]\n",
    "else:\n",
    "    value = \"Country not present\"\n",
    "    \n",
    "print(value)"
   ]
  },
  {
   "cell_type": "code",
   "execution_count": 23,
   "id": "adequate-contrast",
   "metadata": {},
   "outputs": [
    {
     "name": "stdout",
     "output_type": "stream",
     "text": [
      "Mexico City\n"
     ]
    }
   ],
   "source": [
    "search_key = \"Mexico\"\n",
    "value = countries.get(search_key, \"No record\")\n",
    "print(value)"
   ]
  },
  {
   "cell_type": "markdown",
   "id": "native-mississippi",
   "metadata": {},
   "source": [
    "### Valid dict key types\n",
    "\n",
    "A key can be any Python object. Use immutable objects as keys.\n",
    "\n",
    "Use `hash()` to check if an object is immutable."
   ]
  },
  {
   "cell_type": "markdown",
   "id": "animal-letter",
   "metadata": {},
   "source": [
    "## Set\n",
    "\n",
    "It is an unordered collection of unique elements. To create a set, use `set()` or `{}`."
   ]
  },
  {
   "cell_type": "code",
   "execution_count": 24,
   "id": "ignored-court",
   "metadata": {},
   "outputs": [
    {
     "data": {
      "text/plain": [
       "{1, 2, 3, 4, 5, 6}"
      ]
     },
     "execution_count": 24,
     "metadata": {},
     "output_type": "execute_result"
    }
   ],
   "source": [
    "set([1,4,5,3,6,2,2,4,5])"
   ]
  },
  {
   "cell_type": "markdown",
   "id": "shaped-surgery",
   "metadata": {},
   "source": [
    "### Set operations\n",
    "\n",
    "- union\n",
    "- intersection\n",
    "- difference\n",
    "- symmetric difference"
   ]
  },
  {
   "cell_type": "markdown",
   "id": "ready-appreciation",
   "metadata": {},
   "source": [
    "## List, Set, and Dict Comprehensions\n",
    "\n",
    "It is a loop and if statement combined. List comprehensions return a new list, set or dict.\n",
    "\n",
    "`[expression with i for i in collection if contion is met]`"
   ]
  },
  {
   "cell_type": "code",
   "execution_count": 25,
   "id": "every-billy",
   "metadata": {},
   "outputs": [
    {
     "data": {
      "text/plain": [
       "[4, 16, 36, 64]"
      ]
     },
     "execution_count": 25,
     "metadata": {},
     "output_type": "execute_result"
    }
   ],
   "source": [
    "# list\n",
    "numbers = [1,2,3,4,5,6,7,8,9]\n",
    "[num*num for num in numbers if num % 2 == 0]"
   ]
  },
  {
   "cell_type": "code",
   "execution_count": 26,
   "id": "arranged-finish",
   "metadata": {},
   "outputs": [
    {
     "data": {
      "text/plain": [
       "[1, 4, 9, 16, 25, 36, 49, 64, 81]"
      ]
     },
     "execution_count": 26,
     "metadata": {},
     "output_type": "execute_result"
    }
   ],
   "source": [
    "# no if statement\n",
    "[num*num for num in numbers]"
   ]
  },
  {
   "cell_type": "code",
   "execution_count": 27,
   "id": "incomplete-truck",
   "metadata": {},
   "outputs": [
    {
     "data": {
      "text/plain": [
       "{'a', 'n', 'p'}"
      ]
     },
     "execution_count": 27,
     "metadata": {},
     "output_type": "execute_result"
    }
   ],
   "source": [
    "# set\n",
    "words = ['apple', 'pear', 'two', 'nine', 'all', 'tea', 'almost']\n",
    "set_letters = {word[0] for word in words if len(word) > 3}\n",
    "set_letters"
   ]
  },
  {
   "cell_type": "code",
   "execution_count": 28,
   "id": "descending-arlington",
   "metadata": {},
   "outputs": [
    {
     "data": {
      "text/plain": [
       "{'a', 'n', 'p', 't'}"
      ]
     },
     "execution_count": 28,
     "metadata": {},
     "output_type": "execute_result"
    }
   ],
   "source": [
    "# no if statement\n",
    "{word[0] for word in words}"
   ]
  },
  {
   "cell_type": "code",
   "execution_count": 29,
   "id": "thirty-letter",
   "metadata": {},
   "outputs": [
    {
     "data": {
      "text/plain": [
       "{3, 4, 5, 6}"
      ]
     },
     "execution_count": 29,
     "metadata": {},
     "output_type": "execute_result"
    }
   ],
   "source": [
    "unique_lengths = {len(word) for word in words}\n",
    "unique_lengths"
   ]
  },
  {
   "cell_type": "code",
   "execution_count": 30,
   "id": "pacific-nudist",
   "metadata": {},
   "outputs": [
    {
     "data": {
      "text/plain": [
       "{'apple': 0, 'pear': 1, 'nine': 3, 'almost': 6}"
      ]
     },
     "execution_count": 30,
     "metadata": {},
     "output_type": "execute_result"
    }
   ],
   "source": [
    "location_mapping = {val : index for index, val in enumerate(words) if len(val) > 3}\n",
    "location_mapping"
   ]
  },
  {
   "cell_type": "markdown",
   "id": "corrected-sponsorship",
   "metadata": {},
   "source": [
    "## Nested list comprehensions"
   ]
  },
  {
   "cell_type": "code",
   "execution_count": 31,
   "id": "nutritional-lyric",
   "metadata": {},
   "outputs": [],
   "source": [
    " all_data = [['John', 'Emily', 'Michael', 'Mary', 'Steven'],\n",
    " ['Merie', 'Juan', 'Javier', 'Natalia', 'Pilar']]\n"
   ]
  },
  {
   "cell_type": "code",
   "execution_count": 32,
   "id": "terminal-sender",
   "metadata": {},
   "outputs": [
    {
     "data": {
      "text/plain": [
       "['steven', 'merie']"
      ]
     },
     "execution_count": 32,
     "metadata": {},
     "output_type": "execute_result"
    }
   ],
   "source": [
    "result = [name.lower() for names in all_data for name in names if name.count('e') >= 2]\n",
    "result"
   ]
  },
  {
   "cell_type": "code",
   "execution_count": 33,
   "id": "abandoned-socket",
   "metadata": {},
   "outputs": [
    {
     "data": {
      "text/plain": [
       "['John', 'Juan', 'Javier']"
      ]
     },
     "execution_count": 33,
     "metadata": {},
     "output_type": "execute_result"
    }
   ],
   "source": [
    "result = [name for names in all_data for name in names if name[0] == 'J']\n",
    "result"
   ]
  },
  {
   "cell_type": "code",
   "execution_count": 34,
   "id": "painted-carbon",
   "metadata": {},
   "outputs": [
    {
     "data": {
      "text/plain": [
       "[1, 2, 3, 4, 5, 6, 7, 8, 9]"
      ]
     },
     "execution_count": 34,
     "metadata": {},
     "output_type": "execute_result"
    }
   ],
   "source": [
    "some_tuples = [(1,2,3), (4,5,6), (7,8,9)]\n",
    "flattened = [x for tup in some_tuples for x in tup]\n",
    "flattened"
   ]
  },
  {
   "cell_type": "markdown",
   "id": "dominican-actress",
   "metadata": {},
   "source": [
    "## Functions\n",
    "\n",
    "`None` is returned automatically if no return statement is present.\n",
    "\n",
    "Each function can have positional arguments and keyword arguments. Keyword arguments are for default values or optional arguments.\n",
    "\n",
    "Namespace: describles the variable scope.\n",
    "\n",
    "Scopes: local and global.\n",
    "\n",
    "When a function is executed, a local namespace is created. Once the execution is complete, the local namespace is destroyed."
   ]
  },
  {
   "cell_type": "code",
   "execution_count": 35,
   "id": "aquatic-corporation",
   "metadata": {},
   "outputs": [],
   "source": [
    "states = ['   Alabama  ', 'Georgia', 'Georgia!', 'georgia', 'FlOrida', 'south  carolina##', 'West virginia?']"
   ]
  },
  {
   "cell_type": "code",
   "execution_count": 36,
   "id": "square-virginia",
   "metadata": {},
   "outputs": [],
   "source": [
    "import re"
   ]
  },
  {
   "cell_type": "code",
   "execution_count": 37,
   "id": "nearby-genesis",
   "metadata": {},
   "outputs": [],
   "source": [
    "def remove_punctuation(value):\n",
    "    return re.sub(pattern='[!#?]', repl='', string=value)\n",
    "\n",
    "def remove_doublespaces(value):\n",
    "    return re.sub(pattern=r'\\s+', repl=' ', string=value)"
   ]
  },
  {
   "cell_type": "code",
   "execution_count": 38,
   "id": "stupid-vienna",
   "metadata": {},
   "outputs": [],
   "source": [
    "clean_ops = [str.strip, remove_punctuation, remove_doublespaces, str.title]"
   ]
  },
  {
   "cell_type": "code",
   "execution_count": 39,
   "id": "sealed-stations",
   "metadata": {},
   "outputs": [],
   "source": [
    "def clean_strings(string_list, func_list):\n",
    "    result = []\n",
    "    for string in string_list:\n",
    "        for function in func_list:\n",
    "            string = function(string)\n",
    "        result.append(string)\n",
    "    return result"
   ]
  },
  {
   "cell_type": "code",
   "execution_count": 40,
   "id": "parental-lying",
   "metadata": {},
   "outputs": [],
   "source": [
    "result = clean_strings(states, clean_ops)"
   ]
  },
  {
   "cell_type": "code",
   "execution_count": 41,
   "id": "developed-montreal",
   "metadata": {},
   "outputs": [
    {
     "data": {
      "text/plain": [
       "['Alabama',\n",
       " 'Georgia',\n",
       " 'Georgia',\n",
       " 'Georgia',\n",
       " 'Florida',\n",
       " 'South Carolina',\n",
       " 'West Virginia']"
      ]
     },
     "execution_count": 41,
     "metadata": {},
     "output_type": "execute_result"
    }
   ],
   "source": [
    "result"
   ]
  },
  {
   "cell_type": "code",
   "execution_count": 42,
   "id": "analyzed-rolling",
   "metadata": {},
   "outputs": [
    {
     "data": {
      "text/plain": [
       "['   Alabama  ',\n",
       " 'Georgia',\n",
       " 'Georgia',\n",
       " 'georgia',\n",
       " 'FlOrida',\n",
       " 'south  carolina',\n",
       " 'West virginia']"
      ]
     },
     "execution_count": 42,
     "metadata": {},
     "output_type": "execute_result"
    }
   ],
   "source": [
    "list(map(remove_punctuation, states))"
   ]
  },
  {
   "cell_type": "code",
   "execution_count": 43,
   "id": "unlikely-liquid",
   "metadata": {},
   "outputs": [
    {
     "data": {
      "text/plain": [
       "[' Alabama ',\n",
       " 'Georgia',\n",
       " 'Georgia',\n",
       " 'georgia',\n",
       " 'FlOrida',\n",
       " 'south carolina',\n",
       " 'West virginia']"
      ]
     },
     "execution_count": 43,
     "metadata": {},
     "output_type": "execute_result"
    }
   ],
   "source": [
    "list(map(remove_doublespaces,map(remove_punctuation, states)))"
   ]
  },
  {
   "cell_type": "markdown",
   "id": "selected-bronze",
   "metadata": {},
   "source": [
    "## Lambda functions"
   ]
  },
  {
   "cell_type": "code",
   "execution_count": 48,
   "id": "figured-vertex",
   "metadata": {},
   "outputs": [],
   "source": [
    "strings = ['abadcd','foo', 'card', 'bar', 'aaaa', 'abab']"
   ]
  },
  {
   "cell_type": "code",
   "execution_count": 49,
   "id": "derived-alaska",
   "metadata": {},
   "outputs": [],
   "source": [
    "strings.sort(key=len)"
   ]
  },
  {
   "cell_type": "code",
   "execution_count": 50,
   "id": "great-niagara",
   "metadata": {},
   "outputs": [
    {
     "data": {
      "text/plain": [
       "['foo', 'bar', 'card', 'aaaa', 'abab', 'abadcd']"
      ]
     },
     "execution_count": 50,
     "metadata": {},
     "output_type": "execute_result"
    }
   ],
   "source": [
    "strings"
   ]
  },
  {
   "cell_type": "code",
   "execution_count": 52,
   "id": "occupied-effect",
   "metadata": {},
   "outputs": [],
   "source": [
    "strings.sort(key=lambda x: len(set(list(x))))"
   ]
  },
  {
   "cell_type": "code",
   "execution_count": 53,
   "id": "subject-estonia",
   "metadata": {},
   "outputs": [
    {
     "data": {
      "text/plain": [
       "['aaaa', 'foo', 'abab', 'bar', 'card', 'abadcd']"
      ]
     },
     "execution_count": 53,
     "metadata": {},
     "output_type": "execute_result"
    }
   ],
   "source": [
    "strings"
   ]
  },
  {
   "cell_type": "code",
   "execution_count": 57,
   "id": "pointed-links",
   "metadata": {},
   "outputs": [
    {
     "data": {
      "text/plain": [
       "6"
      ]
     },
     "execution_count": 57,
     "metadata": {},
     "output_type": "execute_result"
    }
   ],
   "source": [
    "len(set(list(strings)))"
   ]
  },
  {
   "cell_type": "code",
   "execution_count": 62,
   "id": "simple-official",
   "metadata": {},
   "outputs": [],
   "source": [
    "def apply_to_list(numbers, f):\n",
    "    return [f(x) for x in numbers]"
   ]
  },
  {
   "cell_type": "code",
   "execution_count": 68,
   "id": "medieval-wonder",
   "metadata": {},
   "outputs": [],
   "source": [
    "def cube(x):\n",
    "    return x ** 2"
   ]
  },
  {
   "cell_type": "code",
   "execution_count": 69,
   "id": "studied-thesis",
   "metadata": {},
   "outputs": [],
   "source": [
    "num_list = [2, 6, 3, 7, 9, 10]"
   ]
  },
  {
   "cell_type": "code",
   "execution_count": 70,
   "id": "reverse-class",
   "metadata": {},
   "outputs": [
    {
     "data": {
      "text/plain": [
       "[4, 36, 9, 49, 81, 100]"
      ]
     },
     "execution_count": 70,
     "metadata": {},
     "output_type": "execute_result"
    }
   ],
   "source": [
    "apply_to_list(num_list, cube)"
   ]
  },
  {
   "cell_type": "code",
   "execution_count": 72,
   "id": "generic-armenia",
   "metadata": {},
   "outputs": [
    {
     "data": {
      "text/plain": [
       "[1.4142135623730951,\n",
       " 2.449489742783178,\n",
       " 1.7320508075688772,\n",
       " 2.6457513110645907,\n",
       " 3.0,\n",
       " 3.1622776601683795]"
      ]
     },
     "execution_count": 72,
     "metadata": {},
     "output_type": "execute_result"
    }
   ],
   "source": [
    "# using lambda function\n",
    "import math\n",
    "apply_to_list(num_list, lambda x: math.sqrt(x))"
   ]
  },
  {
   "cell_type": "code",
   "execution_count": 73,
   "id": "printable-upper",
   "metadata": {},
   "outputs": [],
   "source": [
    "some_tuples = [('John', 20), ('Mike', 10), ('Sara',15), ('Jane',1)]"
   ]
  },
  {
   "cell_type": "code",
   "execution_count": 75,
   "id": "surrounded-spirit",
   "metadata": {},
   "outputs": [
    {
     "data": {
      "text/plain": [
       "[('Jane', 1), ('Mike', 10), ('Sara', 15), ('John', 20)]"
      ]
     },
     "execution_count": 75,
     "metadata": {},
     "output_type": "execute_result"
    }
   ],
   "source": [
    "sorted(some_tuples, key=lambda name : name[1])"
   ]
  },
  {
   "cell_type": "markdown",
   "id": "sized-austria",
   "metadata": {},
   "source": [
    "## Currying\n",
    "\n",
    "Deriving new functions from existing ones by partial argument application."
   ]
  },
  {
   "cell_type": "code",
   "execution_count": 85,
   "id": "western-replication",
   "metadata": {},
   "outputs": [],
   "source": [
    "def add_numbers(x, y):\n",
    "    return x + y"
   ]
  },
  {
   "cell_type": "code",
   "execution_count": 86,
   "id": "sublime-serial",
   "metadata": {},
   "outputs": [
    {
     "data": {
      "text/plain": [
       "15"
      ]
     },
     "execution_count": 86,
     "metadata": {},
     "output_type": "execute_result"
    }
   ],
   "source": [
    "add_five = lambda y : add_numbers(5, y)\n",
    "add_five(10)"
   ]
  },
  {
   "cell_type": "markdown",
   "id": "juvenile-portsmouth",
   "metadata": {},
   "source": [
    "Using partial function"
   ]
  },
  {
   "cell_type": "code",
   "execution_count": 88,
   "id": "revised-punishment",
   "metadata": {},
   "outputs": [
    {
     "data": {
      "text/plain": [
       "16"
      ]
     },
     "execution_count": 88,
     "metadata": {},
     "output_type": "execute_result"
    }
   ],
   "source": [
    "from functools import partial\n",
    "def add_three_num(x, y, z):\n",
    "    return x + y + z\n",
    "one_number = partial(add_three_num, 10, 5)\n",
    "one_number(1)"
   ]
  },
  {
   "cell_type": "code",
   "execution_count": null,
   "id": "under-pension",
   "metadata": {},
   "outputs": [],
   "source": []
  }
 ],
 "metadata": {
  "kernelspec": {
   "display_name": "Python 3",
   "language": "python",
   "name": "python3"
  },
  "language_info": {
   "codemirror_mode": {
    "name": "ipython",
    "version": 3
   },
   "file_extension": ".py",
   "mimetype": "text/x-python",
   "name": "python",
   "nbconvert_exporter": "python",
   "pygments_lexer": "ipython3",
   "version": "3.6.13"
  },
  "toc": {
   "base_numbering": 1,
   "nav_menu": {},
   "number_sections": true,
   "sideBar": true,
   "skip_h1_title": true,
   "title_cell": "Table of Contents",
   "title_sidebar": "Contents",
   "toc_cell": false,
   "toc_position": {},
   "toc_section_display": true,
   "toc_window_display": false
  },
  "toc-autonumbering": true
 },
 "nbformat": 4,
 "nbformat_minor": 5
}
