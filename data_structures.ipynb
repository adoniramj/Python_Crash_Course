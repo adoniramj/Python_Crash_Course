{
 "cells": [
  {
   "cell_type": "markdown",
   "id": "temporal-consolidation",
   "metadata": {},
   "source": [
    "# Python data structures"
   ]
  },
  {
   "cell_type": "markdown",
   "id": "dietary-prevention",
   "metadata": {},
   "source": [
    "## Tuple\n",
    "\n",
    "A fixed-length, immutable sequence of Python objects. If an object inside a tuple is mutable, you modify it in-place.\n",
    "\n",
    "To convert a sequence to a tuple use `tuple()`"
   ]
  },
  {
   "cell_type": "code",
   "execution_count": 1,
   "id": "described-while",
   "metadata": {},
   "outputs": [
    {
     "data": {
      "text/plain": [
       "(3, 4, 5)"
      ]
     },
     "execution_count": 1,
     "metadata": {},
     "output_type": "execute_result"
    }
   ],
   "source": [
    "tup = 3,4,5\n",
    "tup"
   ]
  },
  {
   "cell_type": "code",
   "execution_count": 2,
   "id": "independent-chinese",
   "metadata": {},
   "outputs": [
    {
     "data": {
      "text/plain": [
       "('s', 't', 'r', 'i', 'n', 'g')"
      ]
     },
     "execution_count": 2,
     "metadata": {},
     "output_type": "execute_result"
    }
   ],
   "source": [
    "tmp_var = 'string'\n",
    "tup = tuple(tmp_var)\n",
    "tup"
   ]
  },
  {
   "cell_type": "markdown",
   "id": "russian-designation",
   "metadata": {},
   "source": [
    "## Unpacking\n",
    "\n",
    "A quick way to assign objects of a sequence to variables."
   ]
  },
  {
   "cell_type": "code",
   "execution_count": 3,
   "id": "cellular-amsterdam",
   "metadata": {},
   "outputs": [
    {
     "name": "stdout",
     "output_type": "stream",
     "text": [
      "1\n",
      "2 3\n"
     ]
    }
   ],
   "source": [
    "tup = 1,2,3\n",
    "a, *_ = tup\n",
    "print(a)\n",
    "print(*_)"
   ]
  },
  {
   "cell_type": "markdown",
   "id": "industrial-visiting",
   "metadata": {},
   "source": [
    "## Variable swap"
   ]
  },
  {
   "cell_type": "code",
   "execution_count": 4,
   "id": "southwest-republic",
   "metadata": {},
   "outputs": [
    {
     "name": "stdout",
     "output_type": "stream",
     "text": [
      "10\n",
      "1\n"
     ]
    }
   ],
   "source": [
    "a = 1\n",
    "b = 10\n",
    "\n",
    "b, a = a, b\n",
    "print(a)\n",
    "print(b)"
   ]
  },
  {
   "cell_type": "markdown",
   "id": "breeding-graphics",
   "metadata": {},
   "source": [
    "## Lists\n",
    "\n",
    "A variable length sequence of Python objects. You can modify the objects in-place. To create a list use `[]`."
   ]
  },
  {
   "cell_type": "code",
   "execution_count": 5,
   "id": "generic-logistics",
   "metadata": {},
   "outputs": [
    {
     "data": {
      "text/plain": [
       "[2, 3, 7, None]"
      ]
     },
     "execution_count": 5,
     "metadata": {},
     "output_type": "execute_result"
    }
   ],
   "source": [
    "a_list = [2,3,7, None]\n",
    "a_list"
   ]
  },
  {
   "cell_type": "markdown",
   "id": "likely-riding",
   "metadata": {},
   "source": [
    "### List methods\n",
    "\n",
    "- `.append()` to insert a new value at the end.\n",
    "- `.insert()` to insert a new values in a specific position.\n",
    "- `.pop()` to remove an element from a list. To remove a specific object use the index number. The default behavior to remove the last value.\n",
    "- `.remove()` to remove an object by value. Only removes the first occurrence.\n",
    "- `.extend()` to add multiple elements to a list.\n",
    "- `.sort()` will sort a list in-place. Handles a key argument."
   ]
  },
  {
   "cell_type": "markdown",
   "id": "sensitive-income",
   "metadata": {},
   "source": [
    "###  Checking whether a list contains a value\n",
    "\n",
    "Use:\n",
    "- `in`\n",
    "- `not in`"
   ]
  },
  {
   "cell_type": "markdown",
   "id": "enhanced-collaboration",
   "metadata": {},
   "source": [
    "### Built-in bisect module for sorted lists\n",
    "\n",
    "`bisect.bisect(a_list, 2)` finds the position in a sorted list to insert a value and maintain the list ordered. `.bisect` only finds the position, it does not insert the value. To insert a value use `bisect.insort()`."
   ]
  },
  {
   "cell_type": "markdown",
   "id": "special-buying",
   "metadata": {},
   "source": [
    "### Slicing\n",
    "Slicing is the action of a selecting a section from a list.  The syntax is `a_list[start:stop:step]`. The stop position is not included in the returned selection.\n",
    "\n",
    "To reverse a list you can use `a_list[::-1]`."
   ]
  },
  {
   "cell_type": "markdown",
   "id": "ranging-owner",
   "metadata": {},
   "source": [
    "## Built-in sequence functions"
   ]
  },
  {
   "cell_type": "markdown",
   "id": "sacred-hamilton",
   "metadata": {},
   "source": [
    "### enumerate()\n",
    "The enumerate function keeps track of the index of the current value and the value when iterating over a sequence. \n",
    "\n",
    "`for i, value in enumerate(collection):\n",
    "    # do something with value`"
   ]
  },
  {
   "cell_type": "markdown",
   "id": "written-chess",
   "metadata": {},
   "source": [
    "### sorted()\n",
    "\n",
    "The sorted function returns a new sorted sequence."
   ]
  },
  {
   "cell_type": "code",
   "execution_count": 6,
   "id": "naval-soldier",
   "metadata": {},
   "outputs": [
    {
     "name": "stdout",
     "output_type": "stream",
     "text": [
      "[' ', 'a', 'g', 'i', 'n', 'r', 's', 't'] \n",
      "\n",
      "notice that a is not modified.\n",
      "\n",
      "['a', ' ', 's', 't', 'r', 'i', 'n', 'g']\n"
     ]
    }
   ],
   "source": [
    "a = 'a string'\n",
    "a = list(a)\n",
    "print(sorted(a),'\\n')\n",
    "print('notice that a is not modified.\\n')\n",
    "# notice that a is not modified.\n",
    "print(a)\n"
   ]
  },
  {
   "cell_type": "markdown",
   "id": "contained-vancouver",
   "metadata": {},
   "source": [
    "### zip()\n",
    "\n",
    "The zip function \"pairs up\" elements of a group of sequences. This function returns an iterator."
   ]
  },
  {
   "cell_type": "code",
   "execution_count": 7,
   "id": "unable-morning",
   "metadata": {},
   "outputs": [
    {
     "data": {
      "text/plain": [
       "[('a', 1), ('b', 2), ('c', 3)]"
      ]
     },
     "execution_count": 7,
     "metadata": {},
     "output_type": "execute_result"
    }
   ],
   "source": [
    "seq1 = ['a', 'b', 'c']\n",
    "seq2 = [1, 2, 3]\n",
    "zipped = zip(seq1, seq2)\n",
    "list(zipped)"
   ]
  },
  {
   "cell_type": "markdown",
   "id": "blocked-consultation",
   "metadata": {},
   "source": [
    "### reversed()\n",
    "\n",
    "Iterates over the elements of a sequence in reversed order. `reversed` is a generator."
   ]
  },
  {
   "cell_type": "code",
   "execution_count": 8,
   "id": "specific-litigation",
   "metadata": {},
   "outputs": [
    {
     "name": "stdout",
     "output_type": "stream",
     "text": [
      "['zero', 'two', 'four', 'five', 'three', 'one'] \n",
      "\n",
      "reversed does not modify the original list.\n",
      "\n",
      "['one', 'three', 'five', 'four', 'two', 'zero']\n"
     ]
    }
   ],
   "source": [
    "a_list = ['one', 'three', 'five', 'four', 'two', 'zero']\n",
    "print(list(reversed(a_list)),'\\n')\n",
    "print('reversed does not modify the original list.\\n')\n",
    "print(a_list)"
   ]
  },
  {
   "cell_type": "markdown",
   "id": "possible-person",
   "metadata": {},
   "source": [
    "## Dict\n",
    "\n",
    "A dict is a collection of key-value pairs. Each key and value are Python objects. To create a dict use `{}`."
   ]
  },
  {
   "cell_type": "code",
   "execution_count": 9,
   "id": "transparent-regulation",
   "metadata": {},
   "outputs": [],
   "source": [
    "a_dict = {\n",
    "    'a' :'a string',\n",
    "    'b' : [1,2,3,4],\n",
    "    'c' : 100,\n",
    "    'd' : {\n",
    "        'a' : 200\n",
    "    }\n",
    "}"
   ]
  },
  {
   "cell_type": "markdown",
   "id": "earlier-whale",
   "metadata": {},
   "source": [
    "To access a value use the key:"
   ]
  },
  {
   "cell_type": "code",
   "execution_count": 10,
   "id": "interpreted-monte",
   "metadata": {},
   "outputs": [
    {
     "data": {
      "text/plain": [
       "100"
      ]
     },
     "execution_count": 10,
     "metadata": {},
     "output_type": "execute_result"
    }
   ],
   "source": [
    "a_dict['c']"
   ]
  },
  {
   "cell_type": "markdown",
   "id": "determined-constitutional",
   "metadata": {},
   "source": [
    "To add another key:value pair:"
   ]
  },
  {
   "cell_type": "code",
   "execution_count": 11,
   "id": "communist-catering",
   "metadata": {},
   "outputs": [
    {
     "data": {
      "text/plain": [
       "{'a': 'a string',\n",
       " 'b': [1, 2, 3, 4],\n",
       " 'c': 100,\n",
       " 'd': {'a': 200},\n",
       " 'e': 'I am a new key:value pair'}"
      ]
     },
     "execution_count": 11,
     "metadata": {},
     "output_type": "execute_result"
    }
   ],
   "source": [
    "a_dict['e'] = 'I am a new key:value pair'\n",
    "a_dict"
   ]
  },
  {
   "cell_type": "markdown",
   "id": "blocked-peoples",
   "metadata": {},
   "source": [
    "To remove a key:value pair use `del` or `pop`. These two methods return the value and deletes the key."
   ]
  },
  {
   "cell_type": "code",
   "execution_count": 12,
   "id": "handy-enzyme",
   "metadata": {},
   "outputs": [
    {
     "data": {
      "text/plain": [
       "{'a': 'a string',\n",
       " 'b': [1, 2, 3, 4],\n",
       " 'd': {'a': 200},\n",
       " 'e': 'I am a new key:value pair'}"
      ]
     },
     "execution_count": 12,
     "metadata": {},
     "output_type": "execute_result"
    }
   ],
   "source": [
    "del a_dict['c']\n",
    "a_dict"
   ]
  },
  {
   "cell_type": "code",
   "execution_count": 13,
   "id": "delayed-sherman",
   "metadata": {},
   "outputs": [
    {
     "name": "stdout",
     "output_type": "stream",
     "text": [
      "I am a new key:value pair\n"
     ]
    },
    {
     "data": {
      "text/plain": [
       "{'a': 'a string', 'b': [1, 2, 3, 4], 'd': {'a': 200}}"
      ]
     },
     "execution_count": 13,
     "metadata": {},
     "output_type": "execute_result"
    }
   ],
   "source": [
    "deleted_value = a_dict.pop('e')\n",
    "print(deleted_value)\n",
    "a_dict"
   ]
  },
  {
   "cell_type": "code",
   "execution_count": 40,
   "id": "blocked-accent",
   "metadata": {},
   "outputs": [
    {
     "name": "stdout",
     "output_type": "stream",
     "text": [
      "a\n",
      "I was a string, now I' a longer string\n",
      "b\n",
      "[1, 2, 3, 4]\n",
      "d\n",
      "{'a': 200}\n",
      "z\n",
      "1000\n"
     ]
    }
   ],
   "source": [
    "# using items to key track of key and value\n",
    "for key, value in a_dict.items():\n",
    "    print(key)\n",
    "    print(value)"
   ]
  },
  {
   "cell_type": "markdown",
   "id": "dried-samoa",
   "metadata": {},
   "source": [
    "### Dict methods\n",
    "\n",
    "- `.keys()` to retrieve the keys.\n",
    "- `.values()` to retrieve the values.\n",
    "- `.update()` to merge dictionaries. In-place modification of the dict. \n",
    "- `.get()` to retrieve a value using a key or return a default value.\n",
    "- `.setdefault()` to set a key and default value\n",
    "- `defaultdict()` import methods from collection module."
   ]
  },
  {
   "cell_type": "code",
   "execution_count": 14,
   "id": "secondary-interim",
   "metadata": {},
   "outputs": [
    {
     "data": {
      "text/plain": [
       "dict_keys(['a', 'b', 'd'])"
      ]
     },
     "execution_count": 14,
     "metadata": {},
     "output_type": "execute_result"
    }
   ],
   "source": [
    "a_dict.keys()"
   ]
  },
  {
   "cell_type": "code",
   "execution_count": 15,
   "id": "unknown-possibility",
   "metadata": {},
   "outputs": [
    {
     "data": {
      "text/plain": [
       "dict_values(['a string', [1, 2, 3, 4], {'a': 200}])"
      ]
     },
     "execution_count": 15,
     "metadata": {},
     "output_type": "execute_result"
    }
   ],
   "source": [
    "a_dict.values()"
   ]
  },
  {
   "cell_type": "code",
   "execution_count": 16,
   "id": "current-integration",
   "metadata": {},
   "outputs": [
    {
     "data": {
      "text/plain": [
       "{'a': \"I was a string, now I' a longer string\",\n",
       " 'b': [1, 2, 3, 4],\n",
       " 'd': {'a': 200},\n",
       " 'z': 1000}"
      ]
     },
     "execution_count": 16,
     "metadata": {},
     "output_type": "execute_result"
    }
   ],
   "source": [
    "a_dict.update({'a' : 'I was a string, now I\\' a longer string', 'z' : 1000})\n",
    "a_dict"
   ]
  },
  {
   "cell_type": "markdown",
   "id": "democratic-hudson",
   "metadata": {},
   "source": [
    "### Key in dict?"
   ]
  },
  {
   "cell_type": "code",
   "execution_count": 17,
   "id": "worthy-hamburg",
   "metadata": {},
   "outputs": [
    {
     "data": {
      "text/plain": [
       "True"
      ]
     },
     "execution_count": 17,
     "metadata": {},
     "output_type": "execute_result"
    }
   ],
   "source": [
    "'a' in a_dict"
   ]
  },
  {
   "cell_type": "code",
   "execution_count": 18,
   "id": "blocked-browse",
   "metadata": {},
   "outputs": [
    {
     "data": {
      "text/plain": [
       "False"
      ]
     },
     "execution_count": 18,
     "metadata": {},
     "output_type": "execute_result"
    }
   ],
   "source": [
    "'a' not in a_dict"
   ]
  },
  {
   "cell_type": "markdown",
   "id": "liquid-asthma",
   "metadata": {},
   "source": [
    "### Creating a dict from sequences using `zip()`"
   ]
  },
  {
   "cell_type": "code",
   "execution_count": 19,
   "id": "ready-despite",
   "metadata": {},
   "outputs": [
    {
     "data": {
      "text/plain": [
       "{'California': 'Sacramento', 'New York': 'Albany', 'Georgia': 'Atlanta'}"
      ]
     },
     "execution_count": 19,
     "metadata": {},
     "output_type": "execute_result"
    }
   ],
   "source": [
    "states = ['California', 'New York', \"Georgia\"]\n",
    "capitals = ['Sacramento', 'Albany', 'Atlanta']\n",
    "\n",
    "mapping = {}\n",
    "for key, value in zip(states, capitals): # think of a dict as a collection of 2-tuples.\n",
    "    mapping[key] = value\n",
    "    \n",
    "mapping"
   ]
  },
  {
   "cell_type": "markdown",
   "id": "committed-address",
   "metadata": {},
   "source": [
    "### Creating a dict using `dict()` and `zip()`"
   ]
  },
  {
   "cell_type": "code",
   "execution_count": 37,
   "id": "direct-cookbook",
   "metadata": {},
   "outputs": [
    {
     "data": {
      "text/plain": [
       "{'Canada': 'Ottawa', 'US': 'Washington D.C.', 'Mexico': 'Mexico City'}"
      ]
     },
     "execution_count": 37,
     "metadata": {},
     "output_type": "execute_result"
    }
   ],
   "source": [
    "countries = ['Canada', 'US', 'Mexico']\n",
    "capitals = ['Ottawa', 'Washington D.C.', 'Mexico City']\n",
    "\n",
    "dict(zip(countries, capitals))"
   ]
  },
  {
   "cell_type": "markdown",
   "id": "helpful-evening",
   "metadata": {},
   "source": [
    "### Default values"
   ]
  },
  {
   "cell_type": "code",
   "execution_count": 25,
   "id": "reliable-massage",
   "metadata": {},
   "outputs": [
    {
     "name": "stdout",
     "output_type": "stream",
     "text": [
      "Country not present\n"
     ]
    }
   ],
   "source": [
    "countries = ['Canada', 'US', 'Mexico']\n",
    "capitals = ['Ottawa', 'Washington D.C.', 'Mexico City']\n",
    "\n",
    "countries = dict(zip(countries, capitals))\n",
    "\n",
    "search_key = \"Brasil\"\n",
    "if search_key in countries:\n",
    "    value = countries[search_key]\n",
    "else:\n",
    "    value = \"Country not present\"\n",
    "    \n",
    "print(value)"
   ]
  },
  {
   "cell_type": "code",
   "execution_count": 26,
   "id": "sustained-world",
   "metadata": {},
   "outputs": [
    {
     "name": "stdout",
     "output_type": "stream",
     "text": [
      "Mexico City\n"
     ]
    }
   ],
   "source": [
    "search_key = \"Mexico\"\n",
    "value = countries.get(search_key, \"No record\")\n",
    "print(value)"
   ]
  },
  {
   "cell_type": "markdown",
   "id": "modular-writer",
   "metadata": {},
   "source": [
    "### Valid dict key types\n",
    "\n",
    "A key can be any Python object. Use immutable objects as keys.\n",
    "\n",
    "Use `hash()` to check if an object is immutable."
   ]
  },
  {
   "cell_type": "markdown",
   "id": "minus-likelihood",
   "metadata": {},
   "source": [
    "## Set\n",
    "\n",
    "It is an unordered collection of unique elements. To create a set, use `set()` or `{}`."
   ]
  },
  {
   "cell_type": "code",
   "execution_count": 27,
   "id": "composite-statement",
   "metadata": {},
   "outputs": [
    {
     "data": {
      "text/plain": [
       "{1, 2, 3, 4, 5, 6}"
      ]
     },
     "execution_count": 27,
     "metadata": {},
     "output_type": "execute_result"
    }
   ],
   "source": [
    "set([1,4,5,3,6,2,2,4,5])"
   ]
  },
  {
   "cell_type": "markdown",
   "id": "major-virgin",
   "metadata": {},
   "source": [
    "### Set operations\n",
    "\n",
    "- union\n",
    "- intersection\n",
    "- difference\n",
    "- symmetric difference"
   ]
  },
  {
   "cell_type": "markdown",
   "id": "incorrect-favorite",
   "metadata": {},
   "source": [
    "## List, Set, and Dict comprehensions\n",
    "\n",
    "It is a loop and if statement combined.\n",
    "\n",
    "`[expression with i for i in collection if contion is met]`"
   ]
  },
  {
   "cell_type": "code",
   "execution_count": 28,
   "id": "absolute-frame",
   "metadata": {},
   "outputs": [
    {
     "data": {
      "text/plain": [
       "[4, 16, 36, 64]"
      ]
     },
     "execution_count": 28,
     "metadata": {},
     "output_type": "execute_result"
    }
   ],
   "source": [
    "# list\n",
    "numbers = [1,2,3,4,5,6,7,8,9]\n",
    "[num*num for num in numbers if num % 2 == 0]"
   ]
  },
  {
   "cell_type": "code",
   "execution_count": 35,
   "id": "seven-script",
   "metadata": {},
   "outputs": [
    {
     "data": {
      "text/plain": [
       "[1, 4, 9, 16, 25, 36, 49, 64, 81]"
      ]
     },
     "execution_count": 35,
     "metadata": {},
     "output_type": "execute_result"
    }
   ],
   "source": [
    "# no if statement\n",
    "[num*num for num in numbers]"
   ]
  },
  {
   "cell_type": "code",
   "execution_count": 32,
   "id": "proof-inside",
   "metadata": {},
   "outputs": [
    {
     "data": {
      "text/plain": [
       "{'a', 'n', 'p'}"
      ]
     },
     "execution_count": 32,
     "metadata": {},
     "output_type": "execute_result"
    }
   ],
   "source": [
    "# set\n",
    "words = ['apple', 'pear', 'two', 'nine', 'all', 'tea', 'almost']\n",
    "set_letters = {word[0] for word in words if len(word) > 3}\n",
    "set_letters"
   ]
  },
  {
   "cell_type": "code",
   "execution_count": 36,
   "id": "activated-polish",
   "metadata": {},
   "outputs": [
    {
     "data": {
      "text/plain": [
       "{'a', 'n', 'p', 't'}"
      ]
     },
     "execution_count": 36,
     "metadata": {},
     "output_type": "execute_result"
    }
   ],
   "source": [
    "# no if statement\n",
    "{word[0] for word in words}"
   ]
  },
  {
   "cell_type": "code",
   "execution_count": 33,
   "id": "significant-stick",
   "metadata": {},
   "outputs": [
    {
     "data": {
      "text/plain": [
       "{3, 4, 5, 6}"
      ]
     },
     "execution_count": 33,
     "metadata": {},
     "output_type": "execute_result"
    }
   ],
   "source": [
    "unique_lengths = {len(word) for word in words}\n",
    "unique_lengths"
   ]
  },
  {
   "cell_type": "code",
   "execution_count": 34,
   "id": "solar-phoenix",
   "metadata": {},
   "outputs": [
    {
     "data": {
      "text/plain": [
       "{'apple': 0, 'pear': 1, 'nine': 3, 'almost': 6}"
      ]
     },
     "execution_count": 34,
     "metadata": {},
     "output_type": "execute_result"
    }
   ],
   "source": [
    "location_mapping = {val : index for index, val in enumerate(words) if len(val) > 3}\n",
    "location_mapping"
   ]
  },
  {
   "cell_type": "markdown",
   "id": "conceptual-fraud",
   "metadata": {},
   "source": [
    "## Nested list comprehensions"
   ]
  },
  {
   "cell_type": "code",
   "execution_count": null,
   "id": "mobile-minimum",
   "metadata": {},
   "outputs": [],
   "source": [
    " all_data = [['John', 'Emily', 'Michael', 'Mary', 'Steven'],\n",
    " ['Maria', 'Juan', 'Javier', 'Natalia', 'Pilar']]\n"
   ]
  }
 ],
 "metadata": {
  "kernelspec": {
   "display_name": "Python 3",
   "language": "python",
   "name": "python3"
  },
  "language_info": {
   "codemirror_mode": {
    "name": "ipython",
    "version": 3
   },
   "file_extension": ".py",
   "mimetype": "text/x-python",
   "name": "python",
   "nbconvert_exporter": "python",
   "pygments_lexer": "ipython3",
   "version": "3.6.13"
  },
  "toc": {
   "base_numbering": 1,
   "nav_menu": {},
   "number_sections": true,
   "sideBar": true,
   "skip_h1_title": true,
   "title_cell": "Table of Contents",
   "title_sidebar": "Contents",
   "toc_cell": false,
   "toc_position": {},
   "toc_section_display": true,
   "toc_window_display": false
  },
  "toc-autonumbering": true
 },
 "nbformat": 4,
 "nbformat_minor": 5
}
