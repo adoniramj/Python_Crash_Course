{
 "cells": [
  {
   "cell_type": "markdown",
   "id": "sonic-canberra",
   "metadata": {},
   "source": [
    "# Python data structures"
   ]
  },
  {
   "cell_type": "markdown",
   "id": "narrow-runner",
   "metadata": {},
   "source": [
    "## Tuple\n",
    "\n",
    "A fixed-length, immutable sequence of Python objects. If an object inside a tuple is mutable, you modify it in-place.\n",
    "\n",
    "To convert a sequence to a tuple use `tuple()`"
   ]
  },
  {
   "cell_type": "code",
   "execution_count": 1,
   "id": "numerous-cancer",
   "metadata": {},
   "outputs": [
    {
     "data": {
      "text/plain": [
       "(3, 4, 5)"
      ]
     },
     "execution_count": 1,
     "metadata": {},
     "output_type": "execute_result"
    }
   ],
   "source": [
    "tup = 3,4,5\n",
    "tup"
   ]
  },
  {
   "cell_type": "code",
   "execution_count": 2,
   "id": "identified-prince",
   "metadata": {},
   "outputs": [
    {
     "data": {
      "text/plain": [
       "('s', 't', 'r', 'i', 'n', 'g')"
      ]
     },
     "execution_count": 2,
     "metadata": {},
     "output_type": "execute_result"
    }
   ],
   "source": [
    "tmp_var = 'string'\n",
    "tup = tuple(tmp_var)\n",
    "tup"
   ]
  },
  {
   "cell_type": "markdown",
   "id": "connected-chaos",
   "metadata": {},
   "source": [
    "## Unpacking\n",
    "\n",
    "A quick way to assign objects of a sequence to variables."
   ]
  },
  {
   "cell_type": "code",
   "execution_count": 3,
   "id": "sharp-platform",
   "metadata": {},
   "outputs": [
    {
     "name": "stdout",
     "output_type": "stream",
     "text": [
      "1\n",
      "2 3\n"
     ]
    }
   ],
   "source": [
    "tup = 1,2,3\n",
    "a, *_ = tup\n",
    "print(a)\n",
    "print(*_)"
   ]
  },
  {
   "cell_type": "markdown",
   "id": "powered-premises",
   "metadata": {},
   "source": [
    "## Variable swap"
   ]
  },
  {
   "cell_type": "code",
   "execution_count": 4,
   "id": "advance-batch",
   "metadata": {},
   "outputs": [
    {
     "name": "stdout",
     "output_type": "stream",
     "text": [
      "10\n",
      "1\n"
     ]
    }
   ],
   "source": [
    "a = 1\n",
    "b = 10\n",
    "\n",
    "b, a = a, b\n",
    "print(a)\n",
    "print(b)"
   ]
  },
  {
   "cell_type": "markdown",
   "id": "precise-klein",
   "metadata": {},
   "source": [
    "## Lists\n",
    "\n",
    "A variable length sequence of Python objects. You can modify the objects in-place. To create a list use `[]`."
   ]
  },
  {
   "cell_type": "code",
   "execution_count": 5,
   "id": "significant-enforcement",
   "metadata": {},
   "outputs": [
    {
     "data": {
      "text/plain": [
       "[2, 3, 7, None]"
      ]
     },
     "execution_count": 5,
     "metadata": {},
     "output_type": "execute_result"
    }
   ],
   "source": [
    "a_list = [2,3,7, None]\n",
    "a_list"
   ]
  },
  {
   "cell_type": "markdown",
   "id": "identified-agency",
   "metadata": {},
   "source": [
    "### List methods\n",
    "\n",
    "- `.append()` to insert a new value at the end.\n",
    "- `.insert()` to insert a new values in a specific position.\n",
    "- `.pop()` to remove an element from a list. To remove a specific object use the index number. The default behavior to remove the last value.\n",
    "- `.remove()` to remove an object by value. Only removes the first occurrence.\n",
    "- `.extend()` to add multiple elements to a list.\n",
    "- `.sort()` will sort a list in-place. Handles a key argument."
   ]
  },
  {
   "cell_type": "markdown",
   "id": "directed-burner",
   "metadata": {},
   "source": [
    "###  Checking whether a list contains a value\n",
    "\n",
    "Use:\n",
    "- `in`\n",
    "- `not in`"
   ]
  },
  {
   "cell_type": "markdown",
   "id": "removable-wiring",
   "metadata": {},
   "source": [
    "### Built-in bisect module for sorted lists\n",
    "\n",
    "`bisect.bisect(a_list, 2)` finds the position in a sorted list to insert a value and maintain the list ordered. `.bisect` only finds the position, it does not insert the value. To insert a value use `bisect.insort()`."
   ]
  },
  {
   "cell_type": "markdown",
   "id": "capital-certification",
   "metadata": {},
   "source": [
    "### Slicing\n",
    "Slicing is the action of a selecting a section from a list.  The syntax is `a_list[start:stop:step]`. The stop position is not included in the returned selection.\n",
    "\n",
    "To reverse a list you can use `a_list[::-1]`."
   ]
  },
  {
   "cell_type": "markdown",
   "id": "exclusive-museum",
   "metadata": {},
   "source": [
    "## Built-in sequence functions"
   ]
  },
  {
   "cell_type": "markdown",
   "id": "organic-noise",
   "metadata": {},
   "source": [
    "### enumerate()\n",
    "The enumerate function keeps track of the index of the current value and the value when iterating over a sequence. \n",
    "\n",
    "`for i, value in enumerate(collection):\n",
    "    # do something with value`"
   ]
  },
  {
   "cell_type": "markdown",
   "id": "environmental-manner",
   "metadata": {},
   "source": [
    "### sorted()\n",
    "\n",
    "The sorted function returns a new sorted sequence."
   ]
  },
  {
   "cell_type": "code",
   "execution_count": 6,
   "id": "tropical-abortion",
   "metadata": {},
   "outputs": [
    {
     "name": "stdout",
     "output_type": "stream",
     "text": [
      "[' ', 'a', 'g', 'i', 'n', 'r', 's', 't'] \n",
      "\n",
      "notice that a is not modified.\n",
      "\n",
      "['a', ' ', 's', 't', 'r', 'i', 'n', 'g']\n"
     ]
    }
   ],
   "source": [
    "a = 'a string'\n",
    "a = list(a)\n",
    "print(sorted(a),'\\n')\n",
    "print('notice that a is not modified.\\n')\n",
    "# notice that a is not modified.\n",
    "print(a)\n"
   ]
  },
  {
   "cell_type": "markdown",
   "id": "weighted-state",
   "metadata": {},
   "source": [
    "### zip()\n",
    "\n",
    "The zip function \"pairs up\" elements of a group of sequences. This function returns an iterator."
   ]
  },
  {
   "cell_type": "code",
   "execution_count": 7,
   "id": "annoying-closing",
   "metadata": {},
   "outputs": [
    {
     "data": {
      "text/plain": [
       "[('a', 1), ('b', 2), ('c', 3)]"
      ]
     },
     "execution_count": 7,
     "metadata": {},
     "output_type": "execute_result"
    }
   ],
   "source": [
    "seq1 = ['a', 'b', 'c']\n",
    "seq2 = [1, 2, 3]\n",
    "zipped = zip(seq1, seq2)\n",
    "list(zipped)"
   ]
  },
  {
   "cell_type": "markdown",
   "id": "amber-peace",
   "metadata": {},
   "source": [
    "### reversed()\n",
    "\n",
    "Iterates over the elements of a sequence in reversed order. `reversed` is a generator."
   ]
  },
  {
   "cell_type": "code",
   "execution_count": 8,
   "id": "strange-plane",
   "metadata": {},
   "outputs": [
    {
     "name": "stdout",
     "output_type": "stream",
     "text": [
      "['zero', 'two', 'four', 'five', 'three', 'one'] \n",
      "\n",
      "reversed does not modify the original list.\n",
      "\n",
      "['one', 'three', 'five', 'four', 'two', 'zero']\n"
     ]
    }
   ],
   "source": [
    "a_list = ['one', 'three', 'five', 'four', 'two', 'zero']\n",
    "print(list(reversed(a_list)),'\\n')\n",
    "print('reversed does not modify the original list.\\n')\n",
    "print(a_list)"
   ]
  },
  {
   "cell_type": "markdown",
   "id": "saved-indicator",
   "metadata": {},
   "source": [
    "## Dict\n",
    "\n",
    "A dict is a collection of key-value pairs. Each key and value are Python objects. To create a dict use `{}`."
   ]
  },
  {
   "cell_type": "code",
   "execution_count": 18,
   "id": "boring-corruption",
   "metadata": {},
   "outputs": [],
   "source": [
    "a_dict = {\n",
    "    'a' :'a string',\n",
    "    'b' : [1,2,3,4],\n",
    "    'c' : 100,\n",
    "    'd' : {\n",
    "        'a' : 200\n",
    "    }\n",
    "}"
   ]
  },
  {
   "cell_type": "markdown",
   "id": "elder-cleaning",
   "metadata": {},
   "source": [
    "To access a value use the key:"
   ]
  },
  {
   "cell_type": "code",
   "execution_count": 12,
   "id": "divine-checkout",
   "metadata": {},
   "outputs": [
    {
     "data": {
      "text/plain": [
       "100"
      ]
     },
     "execution_count": 12,
     "metadata": {},
     "output_type": "execute_result"
    }
   ],
   "source": [
    "a_dict['c']"
   ]
  },
  {
   "cell_type": "markdown",
   "id": "german-submission",
   "metadata": {},
   "source": [
    "To add another key:value pair:"
   ]
  },
  {
   "cell_type": "code",
   "execution_count": 19,
   "id": "conceptual-riding",
   "metadata": {},
   "outputs": [
    {
     "data": {
      "text/plain": [
       "{'a': 'a string',\n",
       " 'b': [1, 2, 3, 4],\n",
       " 'c': 100,\n",
       " 'd': {'a': 200},\n",
       " 'e': 'I am a new key:value pair'}"
      ]
     },
     "execution_count": 19,
     "metadata": {},
     "output_type": "execute_result"
    }
   ],
   "source": [
    "a_dict['e'] = 'I am a new key:value pair'\n",
    "a_dict"
   ]
  },
  {
   "cell_type": "markdown",
   "id": "living-grocery",
   "metadata": {},
   "source": [
    "To remove a key:value pair use `del` or `pop`. These two methods return the value and deletes the key."
   ]
  },
  {
   "cell_type": "code",
   "execution_count": 20,
   "id": "extensive-roman",
   "metadata": {},
   "outputs": [
    {
     "data": {
      "text/plain": [
       "{'a': 'a string',\n",
       " 'b': [1, 2, 3, 4],\n",
       " 'd': {'a': 200},\n",
       " 'e': 'I am a new key:value pair'}"
      ]
     },
     "execution_count": 20,
     "metadata": {},
     "output_type": "execute_result"
    }
   ],
   "source": [
    "del a_dict['c']\n",
    "a_dict"
   ]
  },
  {
   "cell_type": "code",
   "execution_count": 21,
   "id": "cardiac-distinction",
   "metadata": {},
   "outputs": [
    {
     "name": "stdout",
     "output_type": "stream",
     "text": [
      "I am a new key:value pair\n"
     ]
    },
    {
     "data": {
      "text/plain": [
       "{'a': 'a string', 'b': [1, 2, 3, 4], 'd': {'a': 200}}"
      ]
     },
     "execution_count": 21,
     "metadata": {},
     "output_type": "execute_result"
    }
   ],
   "source": [
    "deleted_value = a_dict.pop('e')\n",
    "print(deleted_value)\n",
    "a_dict"
   ]
  },
  {
   "cell_type": "markdown",
   "id": "correct-hostel",
   "metadata": {},
   "source": [
    "### Dict methods\n",
    "\n",
    "- `.keys()` to retrieve the keys.\n",
    "- `.values()` to retrieve the values.\n",
    "- `.update()` to merge dictionaries. In-place modification of the dict. "
   ]
  },
  {
   "cell_type": "code",
   "execution_count": 22,
   "id": "lightweight-mistake",
   "metadata": {},
   "outputs": [
    {
     "data": {
      "text/plain": [
       "dict_keys(['a', 'b', 'd'])"
      ]
     },
     "execution_count": 22,
     "metadata": {},
     "output_type": "execute_result"
    }
   ],
   "source": [
    "a_dict.keys()"
   ]
  },
  {
   "cell_type": "code",
   "execution_count": 23,
   "id": "medium-prime",
   "metadata": {},
   "outputs": [
    {
     "data": {
      "text/plain": [
       "dict_values(['a string', [1, 2, 3, 4], {'a': 200}])"
      ]
     },
     "execution_count": 23,
     "metadata": {},
     "output_type": "execute_result"
    }
   ],
   "source": [
    "a_dict.values()"
   ]
  },
  {
   "cell_type": "code",
   "execution_count": 25,
   "id": "alternate-secret",
   "metadata": {},
   "outputs": [
    {
     "data": {
      "text/plain": [
       "{'a': \"I was a string, now I' a longer string\",\n",
       " 'b': [1, 2, 3, 4],\n",
       " 'd': {'a': 200},\n",
       " 'z': 1000}"
      ]
     },
     "execution_count": 25,
     "metadata": {},
     "output_type": "execute_result"
    }
   ],
   "source": [
    "a_dict.update({'a' : 'I was a string, now I\\' a longer string', 'z' : 1000})\n",
    "a_dict"
   ]
  },
  {
   "cell_type": "markdown",
   "id": "musical-teacher",
   "metadata": {},
   "source": [
    "### Key in dict?"
   ]
  },
  {
   "cell_type": "code",
   "execution_count": 27,
   "id": "silent-rouge",
   "metadata": {},
   "outputs": [
    {
     "data": {
      "text/plain": [
       "True"
      ]
     },
     "execution_count": 27,
     "metadata": {},
     "output_type": "execute_result"
    }
   ],
   "source": [
    "'a' in a_dict"
   ]
  },
  {
   "cell_type": "code",
   "execution_count": 28,
   "id": "trying-segment",
   "metadata": {},
   "outputs": [
    {
     "data": {
      "text/plain": [
       "False"
      ]
     },
     "execution_count": 28,
     "metadata": {},
     "output_type": "execute_result"
    }
   ],
   "source": [
    "'a' not in a_dict"
   ]
  },
  {
   "cell_type": "markdown",
   "id": "adjacent-boring",
   "metadata": {},
   "source": [
    "### Creating a dict from sequences using `zip()`"
   ]
  },
  {
   "cell_type": "code",
   "execution_count": 29,
   "id": "limiting-carpet",
   "metadata": {},
   "outputs": [
    {
     "data": {
      "text/plain": [
       "{'California': 'Sacramento', 'New York': 'Albany', 'Georgia': 'Atlanta'}"
      ]
     },
     "execution_count": 29,
     "metadata": {},
     "output_type": "execute_result"
    }
   ],
   "source": [
    "states = ['California', 'New York', \"Georgia\"]\n",
    "capitals = ['Sacramento', 'Albany', 'Atlanta']\n",
    "\n",
    "mapping = {}\n",
    "for key, value in zip(states, capitals): # think of a dict as a collection of 2-tuples.\n",
    "    mapping[key] = value\n",
    "    \n",
    "mapping"
   ]
  },
  {
   "cell_type": "markdown",
   "id": "minus-grave",
   "metadata": {},
   "source": [
    "### Creating a dict using `dict()` and `zip()`"
   ]
  },
  {
   "cell_type": "code",
   "execution_count": 30,
   "id": "indirect-hindu",
   "metadata": {},
   "outputs": [
    {
     "data": {
      "text/plain": [
       "{'Canada': 'Ottawa', 'US': 'Washington D.C.', 'Mexico': 'Mexico City'}"
      ]
     },
     "execution_count": 30,
     "metadata": {},
     "output_type": "execute_result"
    }
   ],
   "source": [
    "countries = ['Canada', 'US', 'Mexico']\n",
    "capitals = ['Ottawa', 'Washington D.C.', 'Mexico City']\n",
    "\n",
    "dict(zip(countries, capitals))"
   ]
  },
  {
   "cell_type": "code",
   "execution_count": null,
   "id": "atomic-atlantic",
   "metadata": {},
   "outputs": [],
   "source": []
  }
 ],
 "metadata": {
  "kernelspec": {
   "display_name": "Python 3",
   "language": "python",
   "name": "python3"
  },
  "language_info": {
   "codemirror_mode": {
    "name": "ipython",
    "version": 3
   },
   "file_extension": ".py",
   "mimetype": "text/x-python",
   "name": "python",
   "nbconvert_exporter": "python",
   "pygments_lexer": "ipython3",
   "version": "3.6.12"
  },
  "toc": {
   "base_numbering": 1,
   "nav_menu": {},
   "number_sections": true,
   "sideBar": true,
   "skip_h1_title": true,
   "title_cell": "Table of Contents",
   "title_sidebar": "Contents",
   "toc_cell": false,
   "toc_position": {},
   "toc_section_display": true,
   "toc_window_display": false
  },
  "toc-autonumbering": true
 },
 "nbformat": 4,
 "nbformat_minor": 5
}
