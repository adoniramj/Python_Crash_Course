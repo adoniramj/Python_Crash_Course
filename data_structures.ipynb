{
 "cells": [
  {
   "cell_type": "markdown",
   "id": "respected-messaging",
   "metadata": {},
   "source": [
    "## Tuple\n",
    "\n",
    "A fixed-length, immutable sequence of Python objects. If an object inside a tuple is mutable, you modify it in-place.\n",
    "\n",
    "To convert a sequence to a tuple use `tuple()`"
   ]
  },
  {
   "cell_type": "code",
   "execution_count": 10,
   "id": "other-examination",
   "metadata": {},
   "outputs": [
    {
     "data": {
      "text/plain": [
       "(3, 4, 5)"
      ]
     },
     "execution_count": 10,
     "metadata": {},
     "output_type": "execute_result"
    }
   ],
   "source": [
    "tup = 3,4,5\n",
    "tup"
   ]
  },
  {
   "cell_type": "code",
   "execution_count": 11,
   "id": "dangerous-death",
   "metadata": {},
   "outputs": [
    {
     "data": {
      "text/plain": [
       "('s', 't', 'r', 'i', 'n', 'g')"
      ]
     },
     "execution_count": 11,
     "metadata": {},
     "output_type": "execute_result"
    }
   ],
   "source": [
    "tmp_var = 'string'\n",
    "tup = tuple(tmp_var)\n",
    "tup"
   ]
  },
  {
   "cell_type": "markdown",
   "id": "monthly-latvia",
   "metadata": {},
   "source": [
    "## Unpacking\n",
    "\n",
    "A quick way to assign objects of a sequence to variables."
   ]
  },
  {
   "cell_type": "code",
   "execution_count": 12,
   "id": "effective-evidence",
   "metadata": {},
   "outputs": [
    {
     "name": "stdout",
     "output_type": "stream",
     "text": [
      "1\n",
      "2 3\n"
     ]
    }
   ],
   "source": [
    "tup = 1,2,3\n",
    "a, *_ = tup\n",
    "print(a)\n",
    "print(*_)"
   ]
  },
  {
   "cell_type": "markdown",
   "id": "comfortable-variety",
   "metadata": {},
   "source": [
    "## Variable swap"
   ]
  },
  {
   "cell_type": "code",
   "execution_count": 13,
   "id": "immune-original",
   "metadata": {},
   "outputs": [
    {
     "name": "stdout",
     "output_type": "stream",
     "text": [
      "10\n",
      "1\n"
     ]
    }
   ],
   "source": [
    "a = 1\n",
    "b = 10\n",
    "\n",
    "b, a = a, b\n",
    "print(a)\n",
    "print(b)"
   ]
  },
  {
   "cell_type": "markdown",
   "id": "toxic-origin",
   "metadata": {},
   "source": [
    "## List\n",
    "\n",
    "A variable length sequence of Python objects. You can modify the objects in-place. To create a list use `[]`."
   ]
  },
  {
   "cell_type": "code",
   "execution_count": 14,
   "id": "usual-particle",
   "metadata": {},
   "outputs": [
    {
     "data": {
      "text/plain": [
       "[2, 3, 7, None]"
      ]
     },
     "execution_count": 14,
     "metadata": {},
     "output_type": "execute_result"
    }
   ],
   "source": [
    "a_list = [2,3,7, None]\n",
    "a_list"
   ]
  },
  {
   "cell_type": "markdown",
   "id": "scenic-latitude",
   "metadata": {},
   "source": [
    "### List methods\n",
    "\n",
    "- `.append()` to insert a new value at the end.\n",
    "- `.insert()` to insert a new values in a specific position.\n",
    "- `.pop()` to remove an element from a list. To remove a specific object use the index number. The default behavior to remove the last value.\n",
    "- `.remove()` to remove an object by value. Only removes the first occurrence.\n",
    "- `.extend()` to add multiple elements to a list.\n",
    "- `.sort()` will sort a list in-place. Handles a key argument."
   ]
  },
  {
   "cell_type": "markdown",
   "id": "isolated-connecticut",
   "metadata": {},
   "source": [
    "###  Checking whether a list contains a value\n",
    "\n",
    "Use:\n",
    "- `in`\n",
    "- `not in`"
   ]
  },
  {
   "cell_type": "markdown",
   "id": "ethical-horse",
   "metadata": {},
   "source": [
    "### Built-in bisect module for sorted lists\n",
    "\n",
    "`bisect.bisect(a_list, 2)` finds the position in a sorted list to insert a value and maintain the list ordered. `.bisect` only finds the position, it does not insert the value. To insert a value use `bisect.insort()`."
   ]
  },
  {
   "cell_type": "markdown",
   "id": "ideal-ethernet",
   "metadata": {},
   "source": [
    "### Slicing\n",
    "Slicing is the action of a selecting a section from a list.  The syntax is `a_list[start:stop:step]`. The stop position is not included in the returned selection.\n",
    "\n",
    "To reverse a list you can use `a_list[::-1]`."
   ]
  },
  {
   "cell_type": "markdown",
   "id": "concrete-hudson",
   "metadata": {},
   "source": [
    "## Built-in sequence functions"
   ]
  },
  {
   "cell_type": "markdown",
   "id": "living-stockholm",
   "metadata": {},
   "source": [
    "### enumerate()\n",
    "The enumerate function keeps track of the index of the current value and the value when iterating over a sequence. \n",
    "\n",
    "`for i, value in enumerate(collection):\n",
    "    # do something with value`"
   ]
  },
  {
   "cell_type": "markdown",
   "id": "phantom-tomato",
   "metadata": {},
   "source": [
    "### sorted()\n",
    "\n",
    "The sorted function returns a new sorted sequence."
   ]
  },
  {
   "cell_type": "code",
   "execution_count": 15,
   "id": "controlled-eclipse",
   "metadata": {},
   "outputs": [
    {
     "name": "stdout",
     "output_type": "stream",
     "text": [
      "['a', ' ', 's', 't', 'r', 'i', 'n', 'g']\n",
      "['a', ' ', 's', 't', 'r', 'i', 'n', 'g']\n",
      "[' ', 'a', 'g', 'i', 'n', 'r', 's', 't']\n"
     ]
    }
   ],
   "source": [
    "a = 'a string'\n",
    "a = list(a)\n",
    "print(a)\n",
    "b = sorted(a) # notice that a is not modified.\n",
    "print(a)\n",
    "print(b)"
   ]
  },
  {
   "cell_type": "code",
   "execution_count": null,
   "id": "studied-above",
   "metadata": {},
   "outputs": [],
   "source": []
  }
 ],
 "metadata": {
  "kernelspec": {
   "display_name": "Python 3",
   "language": "python",
   "name": "python3"
  },
  "language_info": {
   "codemirror_mode": {
    "name": "ipython",
    "version": 3
   },
   "file_extension": ".py",
   "mimetype": "text/x-python",
   "name": "python",
   "nbconvert_exporter": "python",
   "pygments_lexer": "ipython3",
   "version": "3.6.12"
  },
  "toc": {
   "base_numbering": 1,
   "nav_menu": {},
   "number_sections": true,
   "sideBar": true,
   "skip_h1_title": true,
   "title_cell": "Table of Contents",
   "title_sidebar": "Contents",
   "toc_cell": false,
   "toc_position": {},
   "toc_section_display": true,
   "toc_window_display": false
  }
 },
 "nbformat": 4,
 "nbformat_minor": 5
}
