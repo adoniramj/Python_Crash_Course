{
 "cells": [
  {
   "cell_type": "code",
   "execution_count": 1,
   "id": "racial-heaven",
   "metadata": {},
   "outputs": [],
   "source": [
    "users = [\n",
    "    {\"id\" : 0, \"name\" : \"Hero\"},\n",
    "    {\"id\" : 1, \"name\" : \"Dunn\"},\n",
    "    {\"id\" : 2, \"name\" : \"Sue\"},\n",
    "    {\"id\" : 3, \"name\" : \"Chi\"},\n",
    "    {\"id\" : 4, \"name\" : \"Thor\"},\n",
    "    {\"id\" : 5, \"name\" : \"Clive\"},\n",
    "    {\"id\" : 6, \"name\" : \"Hicks\"},\n",
    "    {\"id\" : 7, \"name\" : \"Devin\"},\n",
    "    {\"id\" : 8, \"name\" : \"Kate\"},\n",
    "    {\"id\" : 9, \"name\" : \"Klein\"}\n",
    "]"
   ]
  },
  {
   "cell_type": "code",
   "execution_count": 2,
   "id": "higher-beverage",
   "metadata": {},
   "outputs": [],
   "source": [
    "friendship_pairs = [(0,1),(0,2),(1,2),(1,3),(2,3),(3,4),(4,5),(5,6),(5,7),(6,8),(7,8),(8,9)]"
   ]
  },
  {
   "cell_type": "code",
   "execution_count": 5,
   "id": "bibliographic-advancement",
   "metadata": {},
   "outputs": [
    {
     "data": {
      "text/plain": [
       "{0: [1, 2],\n",
       " 1: [0, 2, 3],\n",
       " 2: [0, 1, 3],\n",
       " 3: [1, 2, 4],\n",
       " 4: [3, 5],\n",
       " 5: [4, 6, 7],\n",
       " 6: [5, 8],\n",
       " 7: [5, 8],\n",
       " 8: [6, 7, 9],\n",
       " 9: [8]}"
      ]
     },
     "execution_count": 5,
     "metadata": {},
     "output_type": "execute_result"
    }
   ],
   "source": [
    "friendships = {user[\"id\"]:[] for user in users} # dict comprehension\n",
    "\n",
    "for i, j in friendship_pairs: # is the firt member of the tuple, j the second\n",
    "    friendships[i].append(j)\n",
    "    friendships[j].append(i)\n",
    "\n",
    "friendships"
   ]
  },
  {
   "cell_type": "code",
   "execution_count": 6,
   "id": "departmental-emerald",
   "metadata": {},
   "outputs": [],
   "source": [
    "from collections import defaultdict\n",
    "friendships2 = defaultdict(list)\n",
    "\n",
    "for user in users:\n",
    "    friendships2[user[\"id\"]]\n",
    "\n",
    "\n",
    "for i, j in friendship_pairs:\n",
    "    friendships2[i].append(j)\n",
    "    friendships2[j].append(i)\n",
    "\n",
    "#friendships2"
   ]
  },
  {
   "cell_type": "code",
   "execution_count": 7,
   "id": "qualified-andrew",
   "metadata": {},
   "outputs": [],
   "source": [
    "def number_of_friends(user):\n",
    "    user_id = user[\"id\"] # retrieves the id number\n",
    "    friends_ids = friendships[user_id] # using id number retrieves the a list of friends\n",
    "    return len(friends_ids) # return how many friends user[\"id\"] has"
   ]
  },
  {
   "cell_type": "code",
   "execution_count": 8,
   "id": "amateur-margin",
   "metadata": {},
   "outputs": [
    {
     "data": {
      "text/plain": [
       "24"
      ]
     },
     "execution_count": 8,
     "metadata": {},
     "output_type": "execute_result"
    }
   ],
   "source": [
    "total_connections = sum(number_of_friends(user) for user in users) \n",
    "total_connections"
   ]
  },
  {
   "cell_type": "code",
   "execution_count": 9,
   "id": "unexpected-scanner",
   "metadata": {},
   "outputs": [],
   "source": [
    "# how many friends each user has (friend, number)\n",
    "num_of_friends_by_id = [(user[\"id\"], number_of_friends(user)) for user in users]\n",
    "# returns a list of tuples"
   ]
  },
  {
   "cell_type": "code",
   "execution_count": 10,
   "id": "ambient-wellington",
   "metadata": {},
   "outputs": [
    {
     "data": {
      "text/plain": [
       "[(0, 2),\n",
       " (1, 3),\n",
       " (2, 3),\n",
       " (3, 3),\n",
       " (4, 2),\n",
       " (5, 3),\n",
       " (6, 2),\n",
       " (7, 2),\n",
       " (8, 3),\n",
       " (9, 1)]"
      ]
     },
     "execution_count": 10,
     "metadata": {},
     "output_type": "execute_result"
    }
   ],
   "source": [
    "num_of_friends_by_id"
   ]
  },
  {
   "cell_type": "markdown",
   "id": "conservative-morocco",
   "metadata": {},
   "source": [
    "`lambda arguments :  expressions`"
   ]
  },
  {
   "cell_type": "code",
   "execution_count": 11,
   "id": "noble-gibson",
   "metadata": {},
   "outputs": [],
   "source": [
    "# Who has the most friends\n",
    "num_of_friends_by_id.sort(\n",
    "    key =lambda tup : tup[1], #looping through each tup of num_of_friends_by_id and returning tup[1]\n",
    "    reverse = True)"
   ]
  },
  {
   "cell_type": "code",
   "execution_count": 12,
   "id": "sunset-snowboard",
   "metadata": {},
   "outputs": [
    {
     "data": {
      "text/plain": [
       "[(1, 3),\n",
       " (2, 3),\n",
       " (3, 3),\n",
       " (5, 3),\n",
       " (8, 3),\n",
       " (0, 2),\n",
       " (4, 2),\n",
       " (6, 2),\n",
       " (7, 2),\n",
       " (9, 1)]"
      ]
     },
     "execution_count": 12,
     "metadata": {},
     "output_type": "execute_result"
    }
   ],
   "source": [
    "num_of_friends_by_id"
   ]
  },
  {
   "cell_type": "code",
   "execution_count": 13,
   "id": "endless-damage",
   "metadata": {},
   "outputs": [],
   "source": [
    "def foaf_ids_bad(user):\n",
    "    for friend_id in friendships[user[\"id\"]]:\n",
    "        for foaf_id in friendships[friend_id]:\n",
    "            print(f'The friend of {friend_id} is {foaf_id}')"
   ]
  },
  {
   "cell_type": "code",
   "execution_count": 14,
   "id": "secure-movement",
   "metadata": {},
   "outputs": [
    {
     "name": "stdout",
     "output_type": "stream",
     "text": [
      "The friend of 1 is 0\n",
      "The friend of 1 is 2\n",
      "The friend of 1 is 3\n",
      "The friend of 2 is 0\n",
      "The friend of 2 is 1\n",
      "The friend of 2 is 3\n"
     ]
    }
   ],
   "source": [
    "foaf_ids_bad(users[0])"
   ]
  },
  {
   "cell_type": "code",
   "execution_count": 15,
   "id": "plain-blackberry",
   "metadata": {},
   "outputs": [],
   "source": [
    "# With whom does a user has friends in common?\n",
    "from collections import Counter\n",
    "# Dict subclass for counting hashable items.\n",
    "\n",
    "def friends_of_friends(user): # user is a dict\n",
    "    user_id = user[\"id\"] # retrieving value\n",
    "    return Counter(\n",
    "        foaf_id \n",
    "        for friend_id in friendships[user_id] # list of friends of user_id\n",
    "        for foaf_id in friendships[friend_id] # who are the friends of friend_id\n",
    "        if foaf_id != user_id and foaf_id not in friendships[user_id] #it is not me and it is not a direct friend\n",
    "    )"
   ]
  },
  {
   "cell_type": "code",
   "execution_count": 16,
   "id": "pediatric-africa",
   "metadata": {},
   "outputs": [
    {
     "data": {
      "text/plain": [
       "Counter({3: 2})"
      ]
     },
     "execution_count": 16,
     "metadata": {},
     "output_type": "execute_result"
    }
   ],
   "source": [
    "friends_of_friends(users[0])\n",
    "#explanation of result\n",
    "# user 0 and user 3 have two friends in common."
   ]
  },
  {
   "cell_type": "code",
   "execution_count": 56,
   "id": "outdoor-edward",
   "metadata": {},
   "outputs": [],
   "source": [
    "interests = [(0, \"Hadoop\"), (0, \"Big Data\"), (0, \"HBase\"), (0, \"Java\"), (0, \"Spark\"), (0, \"Storm\"), (0, \"Storm\")\\\n",
    "             ,(1, \"NoSQL\"), (1, \"MongoDB\"), (1, \"Cassandra\"), (1, \"HBase\"), (1, \"Postgres\")\\\n",
    "             ,(2, \"Python\"), (2, \"scikit-learn\"),(2, \"statsmodels\"), (2, \"pandas\")\\\n",
    "            ,(3, \"R\"), (3, \"Python\"), (3, \"statistics\"), (3, \"regression\"), (3, \"probability\"), (3, \"pandas\")\\\n",
    "            ,(4, \"machine learning\"), (4, \"regression\"), (4, \"decision trees\"), (4, \"libsvm\")\\\n",
    "            ,(5, \"Python\"), (5, \"R\"), (5, \"Java\"), (5, \"C++\"), (5, \"Haskell\"), (5, \"programming languages\")\\\n",
    "            ,(6, \"probability\"), (6, \"mathematics\"), (6, \"theory\")\\\n",
    "            ,(7, \"machine learning\"), (7, \"scikit-lear\"), (7, \"Mahout\"), (7, \"neural networks\")\\\n",
    "            ,(8, \"neural networks\"), (8, \"deep learning\"), (8, \"Big data\"), (8, \"artificial intelligence\")\\\n",
    "            ,(9, \"Hadoop\"), (9, \"Java\"), (9, \"MapReduce\"), (9, \"Big Data\")]"
   ]
  },
  {
   "cell_type": "code",
   "execution_count": 18,
   "id": "alpha-quarterly",
   "metadata": {},
   "outputs": [],
   "source": [
    "# Who likes Python, or R, ....\n",
    "def data_scientist_who_like(target_interest):\n",
    "    return [user_id for user_id, user_interest in interests if user_interest == target_interest]"
   ]
  },
  {
   "cell_type": "code",
   "execution_count": 19,
   "id": "talented-developer",
   "metadata": {},
   "outputs": [
    {
     "data": {
      "text/plain": [
       "[2, 3, 5]"
      ]
     },
     "execution_count": 19,
     "metadata": {},
     "output_type": "execute_result"
    }
   ],
   "source": [
    "data_scientist_who_like(\"Python\")\n",
    "# explanation of results\n",
    "# user 2, 3 ,and 5 like Python"
   ]
  },
  {
   "cell_type": "code",
   "execution_count": 24,
   "id": "sealed-camcorder",
   "metadata": {},
   "outputs": [],
   "source": [
    "from collections import defaultdict\n",
    "user_ids_by_interest = defaultdict(list)"
   ]
  },
  {
   "cell_type": "code",
   "execution_count": 25,
   "id": "robust-count",
   "metadata": {},
   "outputs": [],
   "source": [
    "for user_id, interest in interests:\n",
    "    user_ids_by_interest[interest].append(user_id)"
   ]
  },
  {
   "cell_type": "code",
   "execution_count": 26,
   "id": "treated-narrative",
   "metadata": {},
   "outputs": [
    {
     "data": {
      "text/plain": [
       "defaultdict(list,\n",
       "            {'Hadoop': [0],\n",
       "             'Big Data': [0],\n",
       "             'HBase': [0, 1],\n",
       "             'Java': [0, 5],\n",
       "             'Spark': [0],\n",
       "             'Storm': [0, 0],\n",
       "             'NoSQL': [1],\n",
       "             'MongoDB': [1],\n",
       "             'Cassandra': [1],\n",
       "             'Postgres': [1],\n",
       "             'Python': [2, 3, 5],\n",
       "             'scikit-learn': [2],\n",
       "             'statsmodels': [2],\n",
       "             'pandas': [2, 3],\n",
       "             'R': [3, 5],\n",
       "             'statistics': [3],\n",
       "             'regression': [3, 4],\n",
       "             'probability': [3],\n",
       "             'machine learning': [4],\n",
       "             'decision trees': [4],\n",
       "             'libsvm': [4],\n",
       "             'C++': [5],\n",
       "             'Haskell': [5],\n",
       "             'programming languages': [5]})"
      ]
     },
     "execution_count": 26,
     "metadata": {},
     "output_type": "execute_result"
    }
   ],
   "source": [
    "user_ids_by_interest"
   ]
  },
  {
   "cell_type": "code",
   "execution_count": 27,
   "id": "international-bowling",
   "metadata": {},
   "outputs": [
    {
     "data": {
      "text/plain": [
       "[2, 3, 5]"
      ]
     },
     "execution_count": 27,
     "metadata": {},
     "output_type": "execute_result"
    }
   ],
   "source": [
    "user_ids_by_interest[\"Python\"]"
   ]
  },
  {
   "cell_type": "code",
   "execution_count": 28,
   "id": "moved-death",
   "metadata": {},
   "outputs": [
    {
     "data": {
      "text/plain": [
       "defaultdict(list,\n",
       "            {0: ['Hadoop',\n",
       "              'Big Data',\n",
       "              'HBase',\n",
       "              'Java',\n",
       "              'Spark',\n",
       "              'Storm',\n",
       "              'Storm'],\n",
       "             1: ['NoSQL', 'MongoDB', 'Cassandra', 'HBase', 'Postgres'],\n",
       "             2: ['Python', 'scikit-learn', 'statsmodels', 'pandas'],\n",
       "             3: ['R',\n",
       "              'Python',\n",
       "              'statistics',\n",
       "              'regression',\n",
       "              'probability',\n",
       "              'pandas'],\n",
       "             4: ['machine learning', 'regression', 'decision trees', 'libsvm'],\n",
       "             5: ['Python',\n",
       "              'R',\n",
       "              'Java',\n",
       "              'C++',\n",
       "              'Haskell',\n",
       "              'programming languages']})"
      ]
     },
     "execution_count": 28,
     "metadata": {},
     "output_type": "execute_result"
    }
   ],
   "source": [
    "interests_by_user_id = defaultdict(list)\n",
    "for user_id, interest in interests:\n",
    "    interests_by_user_id[user_id].append(interest)\n",
    "interests_by_user_id"
   ]
  },
  {
   "cell_type": "code",
   "execution_count": 29,
   "id": "rental-operations",
   "metadata": {},
   "outputs": [],
   "source": [
    "def most_common_interests_with(user):\n",
    "    return Counter(\n",
    "        interest_user_id\n",
    "        for interest in interests_by_user_id[user[\"id\"]]\n",
    "        for interest_user_id in user_ids_by_interest[interest]\n",
    "        if interest_user_id != user[\"id\"]\n",
    "    )"
   ]
  },
  {
   "cell_type": "code",
   "execution_count": 30,
   "id": "computational-agent",
   "metadata": {},
   "outputs": [
    {
     "data": {
      "text/plain": [
       "Counter({3: 2, 5: 1})"
      ]
     },
     "execution_count": 30,
     "metadata": {},
     "output_type": "execute_result"
    }
   ],
   "source": [
    "most_common_interests_with(users[2])"
   ]
  },
  {
   "cell_type": "code",
   "execution_count": 31,
   "id": "wanted-employee",
   "metadata": {},
   "outputs": [],
   "source": [
    "salaries_and_tenures = [(83000, 8.7), (88000, 8.1), (48000, 0.7), (76000, 6), (69000, 6.5), (76000, 7.5), (60000, 2.5), (83000, 10), (48000, 1.9), (63000, 4.2)]"
   ]
  },
  {
   "cell_type": "code",
   "execution_count": 32,
   "id": "measured-sculpture",
   "metadata": {},
   "outputs": [],
   "source": [
    "salary_by_tenure = defaultdict(list)"
   ]
  },
  {
   "cell_type": "code",
   "execution_count": 33,
   "id": "connected-thesaurus",
   "metadata": {},
   "outputs": [],
   "source": [
    "for salary, tenure in salaries_and_tenures:\n",
    "    salary_by_tenure[tenure].append(salary)"
   ]
  },
  {
   "cell_type": "code",
   "execution_count": 34,
   "id": "placed-beaver",
   "metadata": {},
   "outputs": [
    {
     "data": {
      "text/plain": [
       "defaultdict(list,\n",
       "            {8.7: [83000],\n",
       "             8.1: [88000],\n",
       "             0.7: [48000],\n",
       "             6: [76000],\n",
       "             6.5: [69000],\n",
       "             7.5: [76000],\n",
       "             2.5: [60000],\n",
       "             10: [83000],\n",
       "             1.9: [48000],\n",
       "             4.2: [63000]})"
      ]
     },
     "execution_count": 34,
     "metadata": {},
     "output_type": "execute_result"
    }
   ],
   "source": [
    "salary_by_tenure"
   ]
  },
  {
   "cell_type": "code",
   "execution_count": 38,
   "id": "dental-praise",
   "metadata": {},
   "outputs": [],
   "source": [
    "average_salary_by_tenure  = {tenure: sum(salaries) / len(salaries) for tenure, salaries in salary_by_tenure.items()}"
   ]
  },
  {
   "cell_type": "code",
   "execution_count": 39,
   "id": "based-strip",
   "metadata": {},
   "outputs": [
    {
     "data": {
      "text/plain": [
       "{8.7: 83000.0,\n",
       " 8.1: 88000.0,\n",
       " 0.7: 48000.0,\n",
       " 6: 76000.0,\n",
       " 6.5: 69000.0,\n",
       " 7.5: 76000.0,\n",
       " 2.5: 60000.0,\n",
       " 10: 83000.0,\n",
       " 1.9: 48000.0,\n",
       " 4.2: 63000.0}"
      ]
     },
     "execution_count": 39,
     "metadata": {},
     "output_type": "execute_result"
    }
   ],
   "source": [
    "average_salary_by_tenure"
   ]
  },
  {
   "cell_type": "code",
   "execution_count": 67,
   "id": "known-analyst",
   "metadata": {},
   "outputs": [],
   "source": [
    "def tenure_bucket(tenure: str) -> str:\n",
    "    if tenure < 2:\n",
    "        return \"less than two\"\n",
    "    if tenure < 5:\n",
    "        return \"between two and five\"\n",
    "    else:\n",
    "        return \"more than five\""
   ]
  },
  {
   "cell_type": "code",
   "execution_count": 75,
   "id": "integrated-opportunity",
   "metadata": {},
   "outputs": [],
   "source": [
    "salary_by_tenure_by_bucket = defaultdict(list)"
   ]
  },
  {
   "cell_type": "code",
   "execution_count": 78,
   "id": "authentic-spouse",
   "metadata": {},
   "outputs": [],
   "source": [
    "for salary, tenure in salaries_and_tenures:\n",
    "    bucket = tenure_bucket(tenure)\n",
    "    salary_by_tenure_by_bucket[bucket].append(salary)"
   ]
  },
  {
   "cell_type": "code",
   "execution_count": 79,
   "id": "historical-absolute",
   "metadata": {},
   "outputs": [
    {
     "data": {
      "text/plain": [
       "defaultdict(list,\n",
       "            {'more than five': [83000, 88000, 76000, 69000, 76000, 83000],\n",
       "             'less than two': [48000, 48000],\n",
       "             'between two and five': [60000, 63000]})"
      ]
     },
     "execution_count": 79,
     "metadata": {},
     "output_type": "execute_result"
    }
   ],
   "source": [
    "salary_by_tenure_by_bucket"
   ]
  },
  {
   "cell_type": "code",
   "execution_count": 48,
   "id": "unable-consumption",
   "metadata": {},
   "outputs": [],
   "source": [
    "average_salary_per_bucket = {\n",
    "    tenure_bucket: sum(salaries) / len(salaries)\n",
    "    for tenure_bucket, salaries in salary_by_tenure_by_bucket.items()\n",
    "}"
   ]
  },
  {
   "cell_type": "code",
   "execution_count": 49,
   "id": "eligible-colors",
   "metadata": {},
   "outputs": [
    {
     "data": {
      "text/plain": [
       "{'more than five': 79166.66666666667,\n",
       " 'less than two': 48000.0,\n",
       " 'between two and five': 61500.0}"
      ]
     },
     "execution_count": 49,
     "metadata": {},
     "output_type": "execute_result"
    }
   ],
   "source": [
    "average_salary_per_bucket"
   ]
  },
  {
   "cell_type": "code",
   "execution_count": 57,
   "id": "accepting-reggae",
   "metadata": {},
   "outputs": [],
   "source": [
    "word_and_counts = Counter(word\n",
    "                         for user, interest in interests\n",
    "                         for word in interest.lower().split())"
   ]
  },
  {
   "cell_type": "code",
   "execution_count": 58,
   "id": "complicated-avenue",
   "metadata": {},
   "outputs": [
    {
     "data": {
      "text/plain": [
       "Counter({'hadoop': 2,\n",
       "         'big': 3,\n",
       "         'data': 3,\n",
       "         'hbase': 2,\n",
       "         'java': 3,\n",
       "         'spark': 1,\n",
       "         'storm': 2,\n",
       "         'nosql': 1,\n",
       "         'mongodb': 1,\n",
       "         'cassandra': 1,\n",
       "         'postgres': 1,\n",
       "         'python': 3,\n",
       "         'scikit-learn': 1,\n",
       "         'statsmodels': 1,\n",
       "         'pandas': 2,\n",
       "         'r': 2,\n",
       "         'statistics': 1,\n",
       "         'regression': 2,\n",
       "         'probability': 2,\n",
       "         'machine': 2,\n",
       "         'learning': 3,\n",
       "         'decision': 1,\n",
       "         'trees': 1,\n",
       "         'libsvm': 1,\n",
       "         'c++': 1,\n",
       "         'haskell': 1,\n",
       "         'programming': 1,\n",
       "         'languages': 1,\n",
       "         'mathematics': 1,\n",
       "         'theory': 1,\n",
       "         'scikit-lear': 1,\n",
       "         'mahout': 1,\n",
       "         'neural': 2,\n",
       "         'networks': 2,\n",
       "         'deep': 1,\n",
       "         'artificial': 1,\n",
       "         'intelligence': 1,\n",
       "         'mapreduce': 1})"
      ]
     },
     "execution_count": 58,
     "metadata": {},
     "output_type": "execute_result"
    }
   ],
   "source": [
    "word_and_counts"
   ]
  },
  {
   "cell_type": "code",
   "execution_count": 62,
   "id": "instructional-niagara",
   "metadata": {},
   "outputs": [
    {
     "name": "stdout",
     "output_type": "stream",
     "text": [
      "hadoop 2\n",
      "big 3\n",
      "data 3\n",
      "hbase 2\n",
      "java 3\n",
      "storm 2\n",
      "python 3\n",
      "pandas 2\n",
      "r 2\n",
      "regression 2\n",
      "probability 2\n",
      "machine 2\n",
      "learning 3\n",
      "neural 2\n",
      "networks 2\n"
     ]
    }
   ],
   "source": [
    "for word, count in word_and_counts.items():\n",
    "    if count > 1:\n",
    "        print(word, count)"
   ]
  },
  {
   "cell_type": "code",
   "execution_count": 63,
   "id": "taken-sessions",
   "metadata": {},
   "outputs": [
    {
     "name": "stdout",
     "output_type": "stream",
     "text": [
      "big 3\n",
      "data 3\n",
      "java 3\n",
      "python 3\n",
      "learning 3\n",
      "hadoop 2\n",
      "hbase 2\n",
      "storm 2\n",
      "pandas 2\n",
      "r 2\n",
      "regression 2\n",
      "probability 2\n",
      "machine 2\n",
      "neural 2\n",
      "networks 2\n"
     ]
    }
   ],
   "source": [
    "for word, count in word_and_counts.most_common():\n",
    "    if count > 1:\n",
    "        print(word, count)"
   ]
  },
  {
   "cell_type": "code",
   "execution_count": null,
   "id": "general-ethnic",
   "metadata": {},
   "outputs": [],
   "source": []
  }
 ],
 "metadata": {
  "kernelspec": {
   "display_name": "Python 3",
   "language": "python",
   "name": "python3"
  },
  "language_info": {
   "codemirror_mode": {
    "name": "ipython",
    "version": 3
   },
   "file_extension": ".py",
   "mimetype": "text/x-python",
   "name": "python",
   "nbconvert_exporter": "python",
   "pygments_lexer": "ipython3",
   "version": "3.7.10"
  }
 },
 "nbformat": 4,
 "nbformat_minor": 5
}
