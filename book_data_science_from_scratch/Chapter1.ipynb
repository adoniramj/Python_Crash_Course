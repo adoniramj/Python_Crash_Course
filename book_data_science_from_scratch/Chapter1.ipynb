{
 "cells": [
  {
   "cell_type": "code",
   "execution_count": 1,
   "id": "micro-flour",
   "metadata": {},
   "outputs": [],
   "source": [
    "users = [\n",
    "    {\"id\" : 0, \"name\" : \"Hero\"},\n",
    "    {\"id\" : 1, \"name\" : \"Dunn\"},\n",
    "    {\"id\" : 2, \"name\" : \"Sue\"},\n",
    "    {\"id\" : 3, \"name\" : \"Chi\"},\n",
    "    {\"id\" : 4, \"name\" : \"Thor\"},\n",
    "    {\"id\" : 5, \"name\" : \"Clive\"},\n",
    "    {\"id\" : 6, \"name\" : \"Hicks\"},\n",
    "    {\"id\" : 7, \"name\" : \"Devin\"},\n",
    "    {\"id\" : 8, \"name\" : \"Kate\"},\n",
    "    {\"id\" : 9, \"name\" : \"Klein\"}\n",
    "]"
   ]
  },
  {
   "cell_type": "code",
   "execution_count": 2,
   "id": "particular-jenny",
   "metadata": {},
   "outputs": [],
   "source": [
    "friendship_pairs = [(0,1),(0,2),(1,2),(1,3),(2,3),(3,4),(4,5),(5,6),(5,7),(6,8),(7,8),(8,9)]\n",
    "# each tuple is unique. "
   ]
  },
  {
   "cell_type": "code",
   "execution_count": 3,
   "id": "killing-accent",
   "metadata": {},
   "outputs": [],
   "source": [
    "friendships = {user[\"id\"]:[] for user in users} # dict comprehension\n",
    "# loop through each user in users\n",
    "# retrieve the id from each user \n",
    "# using dict comprehension\n",
    "# create a new dict where each is becomes a key and the value is an empty array."
   ]
  },
  {
   "cell_type": "code",
   "execution_count": 4,
   "id": "expanded-saint",
   "metadata": {},
   "outputs": [
    {
     "data": {
      "text/plain": [
       "{0: [], 1: [], 2: [], 3: [], 4: [], 5: [], 6: [], 7: [], 8: [], 9: []}"
      ]
     },
     "execution_count": 4,
     "metadata": {},
     "output_type": "execute_result"
    }
   ],
   "source": [
    "friendships"
   ]
  },
  {
   "cell_type": "code",
   "execution_count": 5,
   "id": "guided-forge",
   "metadata": {},
   "outputs": [],
   "source": [
    "for i, j in friendship_pairs: # is the firt member of the tuple, j the second\n",
    "    friendships[i].append(j)\n",
    "    friendships[j].append(i)"
   ]
  },
  {
   "cell_type": "code",
   "execution_count": 6,
   "id": "identified-convergence",
   "metadata": {},
   "outputs": [
    {
     "data": {
      "text/plain": [
       "{0: [1, 2],\n",
       " 1: [0, 2, 3],\n",
       " 2: [0, 1, 3],\n",
       " 3: [1, 2, 4],\n",
       " 4: [3, 5],\n",
       " 5: [4, 6, 7],\n",
       " 6: [5, 8],\n",
       " 7: [5, 8],\n",
       " 8: [6, 7, 9],\n",
       " 9: [8]}"
      ]
     },
     "execution_count": 6,
     "metadata": {},
     "output_type": "execute_result"
    }
   ],
   "source": [
    "friendships"
   ]
  },
  {
   "cell_type": "code",
   "execution_count": 7,
   "id": "electronic-catalog",
   "metadata": {},
   "outputs": [],
   "source": [
    "def number_of_friends(user):\n",
    "    user_id = user[\"id\"] # retrieves the id number\n",
    "    friends_ids = friendships[user_id] # using id number retrieves the a list of friends\n",
    "    return len(friends_ids) # return how many friends user[\"id\"] has"
   ]
  },
  {
   "cell_type": "code",
   "execution_count": 8,
   "id": "located-warning",
   "metadata": {},
   "outputs": [
    {
     "data": {
      "text/plain": [
       "24"
      ]
     },
     "execution_count": 8,
     "metadata": {},
     "output_type": "execute_result"
    }
   ],
   "source": [
    "total_connections = sum(number_of_friends(user) for user in users) \n",
    "# loop through users\n",
    "# apply user to number_of_friends\n",
    "# returns how many friends each user has\n",
    "# sum\n",
    "total_connections"
   ]
  },
  {
   "cell_type": "code",
   "execution_count": 9,
   "id": "broken-annual",
   "metadata": {},
   "outputs": [],
   "source": [
    "# how has the most friends\n",
    "num_of_friends_by_id = [(user[\"id\"], number_of_friends(user)) for user in users]\n",
    "# creates a tuple of two.\n",
    "# to create the tuple () are required"
   ]
  },
  {
   "cell_type": "code",
   "execution_count": 10,
   "id": "sporting-backing",
   "metadata": {},
   "outputs": [
    {
     "data": {
      "text/plain": [
       "[(0, 2),\n",
       " (1, 3),\n",
       " (2, 3),\n",
       " (3, 3),\n",
       " (4, 2),\n",
       " (5, 3),\n",
       " (6, 2),\n",
       " (7, 2),\n",
       " (8, 3),\n",
       " (9, 1)]"
      ]
     },
     "execution_count": 10,
     "metadata": {},
     "output_type": "execute_result"
    }
   ],
   "source": [
    "num_of_friends_by_id"
   ]
  },
  {
   "cell_type": "markdown",
   "id": "ready-indication",
   "metadata": {},
   "source": [
    "id 0 has 2 friends\n",
    "\n",
    "id 1 has 3 friends\n",
    "\n",
    "..."
   ]
  },
  {
   "cell_type": "markdown",
   "id": "abroad-polls",
   "metadata": {},
   "source": [
    "`lambda arguments :  expressions`"
   ]
  },
  {
   "cell_type": "code",
   "execution_count": 11,
   "id": "scientific-tribe",
   "metadata": {},
   "outputs": [],
   "source": [
    "num_of_friends_by_id.sort(\n",
    "    key =lambda tup : tup[1], #looping through each tup of num_of_friends_by_id and returning tup[1]\n",
    "    reverse = True)"
   ]
  },
  {
   "cell_type": "code",
   "execution_count": 12,
   "id": "limiting-union",
   "metadata": {},
   "outputs": [
    {
     "data": {
      "text/plain": [
       "[(1, 3),\n",
       " (2, 3),\n",
       " (3, 3),\n",
       " (5, 3),\n",
       " (8, 3),\n",
       " (0, 2),\n",
       " (4, 2),\n",
       " (6, 2),\n",
       " (7, 2),\n",
       " (9, 1)]"
      ]
     },
     "execution_count": 12,
     "metadata": {},
     "output_type": "execute_result"
    }
   ],
   "source": [
    "num_of_friends_by_id"
   ]
  },
  {
   "cell_type": "code",
   "execution_count": 27,
   "id": "binary-argument",
   "metadata": {},
   "outputs": [],
   "source": [
    "def foaf_ids_bad(user):\n",
    "    for friend_id in friendships[user[\"id\"]]:\n",
    "        for foaf_id in friendships[friend_id]:\n",
    "            print(f'The friend of {friend_id} is {foaf_id}')"
   ]
  },
  {
   "cell_type": "code",
   "execution_count": 28,
   "id": "baking-mercury",
   "metadata": {},
   "outputs": [
    {
     "name": "stdout",
     "output_type": "stream",
     "text": [
      "The friend of 1 is 0\n",
      "The friend of 1 is 2\n",
      "The friend of 1 is 3\n",
      "The friend of 2 is 0\n",
      "The friend of 2 is 1\n",
      "The friend of 2 is 3\n"
     ]
    }
   ],
   "source": [
    "foaf_ids_bad(users[0])"
   ]
  },
  {
   "cell_type": "code",
   "execution_count": 29,
   "id": "atlantic-certificate",
   "metadata": {},
   "outputs": [],
   "source": [
    "from collections import Counter\n",
    "# Dict subclass for counting hashable items."
   ]
  },
  {
   "cell_type": "code",
   "execution_count": 35,
   "id": "found-transmission",
   "metadata": {},
   "outputs": [],
   "source": [
    "def friends_of_friends(user):\n",
    "    user_id = user[\"id\"]\n",
    "    return Counter(\n",
    "        foaf_id \n",
    "        for friend_id in friendships[user_id] \n",
    "        for foaf_id in friendships[friend_id] \n",
    "        if foaf_id != user_id and foaf_id not in friendships[user_id]\n",
    "    )"
   ]
  },
  {
   "cell_type": "code",
   "execution_count": null,
   "id": "complex-kidney",
   "metadata": {},
   "outputs": [],
   "source": []
  }
 ],
 "metadata": {
  "kernelspec": {
   "display_name": "Python 3",
   "language": "python",
   "name": "python3"
  },
  "language_info": {
   "codemirror_mode": {
    "name": "ipython",
    "version": 3
   },
   "file_extension": ".py",
   "mimetype": "text/x-python",
   "name": "python",
   "nbconvert_exporter": "python",
   "pygments_lexer": "ipython3",
   "version": "3.6.13"
  }
 },
 "nbformat": 4,
 "nbformat_minor": 5
}
