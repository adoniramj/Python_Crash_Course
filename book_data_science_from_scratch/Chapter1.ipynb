{
 "cells": [
  {
   "cell_type": "code",
   "execution_count": 1,
   "id": "female-employee",
   "metadata": {},
   "outputs": [],
   "source": [
    "users = [\n",
    "    {\"id\" : 0, \"name\" : \"Hero\"},\n",
    "    {\"id\" : 1, \"name\" : \"Dunn\"},\n",
    "    {\"id\" : 2, \"name\" : \"Sue\"},\n",
    "    {\"id\" : 3, \"name\" : \"Chi\"},\n",
    "    {\"id\" : 4, \"name\" : \"Thor\"},\n",
    "    {\"id\" : 5, \"name\" : \"Clive\"},\n",
    "    {\"id\" : 6, \"name\" : \"Hicks\"},\n",
    "    {\"id\" : 7, \"name\" : \"Devin\"},\n",
    "    {\"id\" : 8, \"name\" : \"Kate\"},\n",
    "    {\"id\" : 9, \"name\" : \"Klein\"}\n",
    "]"
   ]
  },
  {
   "cell_type": "code",
   "execution_count": 2,
   "id": "therapeutic-beverage",
   "metadata": {},
   "outputs": [],
   "source": [
    "friendship_pairs = [(0,1),(0,2),(1,2),(1,3),(2,3),(3,4),(4,5),(5,6),(5,7),(6,8),(7,8),(8,9)]"
   ]
  },
  {
   "cell_type": "code",
   "execution_count": 63,
   "id": "animated-signal",
   "metadata": {},
   "outputs": [
    {
     "data": {
      "text/plain": [
       "{0: [1, 2],\n",
       " 1: [0, 2, 3],\n",
       " 2: [0, 1, 3],\n",
       " 3: [1, 2, 4],\n",
       " 4: [3, 5],\n",
       " 5: [4, 6, 7],\n",
       " 6: [5, 8],\n",
       " 7: [5, 8],\n",
       " 8: [6, 7, 9],\n",
       " 9: [8]}"
      ]
     },
     "execution_count": 63,
     "metadata": {},
     "output_type": "execute_result"
    }
   ],
   "source": [
    "friendships = {user[\"id\"]:[] for user in users} # dict comprehension\n",
    "\n",
    "for i, j in friendship_pairs: # is the firt member of the tuple, j the second\n",
    "    friendships[i].append(j)\n",
    "    friendships[j].append(i)\n",
    "\n",
    "friendships"
   ]
  },
  {
   "cell_type": "code",
   "execution_count": 71,
   "id": "rocky-territory",
   "metadata": {},
   "outputs": [],
   "source": [
    "friendships2 = defaultdict(list)\n",
    "\n",
    "for user in users:\n",
    "    friendships2[user[\"id\"]]\n",
    "\n",
    "\n",
    "for i, j in friendship_pairs:\n",
    "    friendships2[i].append(j)\n",
    "    friendships2[j].append(i)\n",
    "\n",
    "#friendships2"
   ]
  },
  {
   "cell_type": "code",
   "execution_count": 7,
   "id": "banner-defense",
   "metadata": {},
   "outputs": [],
   "source": [
    "def number_of_friends(user):\n",
    "    user_id = user[\"id\"] # retrieves the id number\n",
    "    friends_ids = friendships[user_id] # using id number retrieves the a list of friends\n",
    "    return len(friends_ids) # return how many friends user[\"id\"] has"
   ]
  },
  {
   "cell_type": "code",
   "execution_count": 8,
   "id": "noble-reality",
   "metadata": {},
   "outputs": [
    {
     "data": {
      "text/plain": [
       "24"
      ]
     },
     "execution_count": 8,
     "metadata": {},
     "output_type": "execute_result"
    }
   ],
   "source": [
    "total_connections = sum(number_of_friends(user) for user in users) \n",
    "total_connections"
   ]
  },
  {
   "cell_type": "code",
   "execution_count": 66,
   "id": "informational-religion",
   "metadata": {},
   "outputs": [],
   "source": [
    "# how many friends each user has (friend, number)\n",
    "num_of_friends_by_id = [(user[\"id\"], number_of_friends(user)) for user in users]\n",
    "# returns a list of tuples"
   ]
  },
  {
   "cell_type": "code",
   "execution_count": 67,
   "id": "disciplinary-geology",
   "metadata": {},
   "outputs": [
    {
     "data": {
      "text/plain": [
       "[(0, 2),\n",
       " (1, 3),\n",
       " (2, 3),\n",
       " (3, 3),\n",
       " (4, 2),\n",
       " (5, 3),\n",
       " (6, 2),\n",
       " (7, 2),\n",
       " (8, 3),\n",
       " (9, 1)]"
      ]
     },
     "execution_count": 67,
     "metadata": {},
     "output_type": "execute_result"
    }
   ],
   "source": [
    "num_of_friends_by_id"
   ]
  },
  {
   "cell_type": "markdown",
   "id": "complimentary-opinion",
   "metadata": {},
   "source": [
    "`lambda arguments :  expressions`"
   ]
  },
  {
   "cell_type": "code",
   "execution_count": 68,
   "id": "wrong-scottish",
   "metadata": {},
   "outputs": [],
   "source": [
    "# Who has the most friends\n",
    "num_of_friends_by_id.sort(\n",
    "    key =lambda tup : tup[1], #looping through each tup of num_of_friends_by_id and returning tup[1]\n",
    "    reverse = True)"
   ]
  },
  {
   "cell_type": "code",
   "execution_count": 69,
   "id": "native-disposition",
   "metadata": {},
   "outputs": [
    {
     "data": {
      "text/plain": [
       "[(1, 3),\n",
       " (2, 3),\n",
       " (3, 3),\n",
       " (5, 3),\n",
       " (8, 3),\n",
       " (0, 2),\n",
       " (4, 2),\n",
       " (6, 2),\n",
       " (7, 2),\n",
       " (9, 1)]"
      ]
     },
     "execution_count": 69,
     "metadata": {},
     "output_type": "execute_result"
    }
   ],
   "source": [
    "num_of_friends_by_id"
   ]
  },
  {
   "cell_type": "code",
   "execution_count": 13,
   "id": "living-keyboard",
   "metadata": {},
   "outputs": [],
   "source": [
    "def foaf_ids_bad(user):\n",
    "    for friend_id in friendships[user[\"id\"]]:\n",
    "        for foaf_id in friendships[friend_id]:\n",
    "            print(f'The friend of {friend_id} is {foaf_id}')"
   ]
  },
  {
   "cell_type": "code",
   "execution_count": 14,
   "id": "distributed-screening",
   "metadata": {},
   "outputs": [
    {
     "name": "stdout",
     "output_type": "stream",
     "text": [
      "The friend of 1 is 0\n",
      "The friend of 1 is 2\n",
      "The friend of 1 is 3\n",
      "The friend of 2 is 0\n",
      "The friend of 2 is 1\n",
      "The friend of 2 is 3\n"
     ]
    }
   ],
   "source": [
    "foaf_ids_bad(users[0])"
   ]
  },
  {
   "cell_type": "code",
   "execution_count": 16,
   "id": "monthly-niger",
   "metadata": {},
   "outputs": [],
   "source": [
    "# With whom does a user has friends in common?\n",
    "from collections import Counter\n",
    "# Dict subclass for counting hashable items.\n",
    "\n",
    "def friends_of_friends(user): # user is a dict\n",
    "    user_id = user[\"id\"] # retrieving value\n",
    "    return Counter(\n",
    "        foaf_id \n",
    "        for friend_id in friendships[user_id] # list of friends of user_id\n",
    "        for foaf_id in friendships[friend_id] # who are the friends of friend_id\n",
    "        if foaf_id != user_id and foaf_id not in friendships[user_id] #it is not me and it is not a direct friend\n",
    "    )"
   ]
  },
  {
   "cell_type": "code",
   "execution_count": 70,
   "id": "lucky-commission",
   "metadata": {},
   "outputs": [
    {
     "data": {
      "text/plain": [
       "Counter({3: 2})"
      ]
     },
     "execution_count": 70,
     "metadata": {},
     "output_type": "execute_result"
    }
   ],
   "source": [
    "friends_of_friends(users[0])\n",
    "#explanation of result\n",
    "# user 0 and user 3 have two friends in common."
   ]
  },
  {
   "cell_type": "code",
   "execution_count": 93,
   "id": "handled-headset",
   "metadata": {},
   "outputs": [],
   "source": [
    "interests = [(0, \"Hadoop\"), (0, \"Big Data\"), (0, \"HBase\"), (0, \"Java\"), (0, \"Spark\"), (0, \"Storm\"), (0, \"Storm\")\\\n",
    "             ,(1, \"NoSQL\"), (1, \"MongoDB\"), (1, \"Cassandra\"), (1, \"HBase\"), (1, \"Postgres\")\\\n",
    "             ,(2, \"Python\"), (2, \"scikit-learn\"),(2, \"statsmodels\"), (2, \"pandas\")\\\n",
    "            ,(3, \"R\"), (3, \"Python\"), (3, \"statistics\"), (3, \"regression\"), (3, \"probability\"), (3, \"pandas\")\\\n",
    "            ,(4, \"machine learning\"), (4, \"regression\"), (4, \"decision trees\"), (4, \"libsvm\")\\\n",
    "            ,(5, \"Python\"), (5, \"R\"), (5, \"Java\"), (5, \"C++\"), (5, \"Haskell\"), (5, \"programming languages\")]"
   ]
  },
  {
   "cell_type": "code",
   "execution_count": 94,
   "id": "following-cross",
   "metadata": {},
   "outputs": [],
   "source": [
    "# Who likes Python, or R, ....\n",
    "def data_scientist_who_like(target_interest):\n",
    "    return [user_id for user_id, user_interest in interests if user_interest == target_interest]"
   ]
  },
  {
   "cell_type": "code",
   "execution_count": 95,
   "id": "bronze-present",
   "metadata": {},
   "outputs": [
    {
     "data": {
      "text/plain": [
       "[2, 3, 5]"
      ]
     },
     "execution_count": 95,
     "metadata": {},
     "output_type": "execute_result"
    }
   ],
   "source": [
    "data_scientist_who_like(\"Python\")\n",
    "# explanation of results\n",
    "# user 2, 3 ,and 5 like Python"
   ]
  },
  {
   "cell_type": "code",
   "execution_count": 96,
   "id": "preliminary-colony",
   "metadata": {},
   "outputs": [],
   "source": [
    "from collections import defaultdict\n",
    "user_ids_by_interest = defaultdict(list)"
   ]
  },
  {
   "cell_type": "code",
   "execution_count": 97,
   "id": "numerical-solid",
   "metadata": {},
   "outputs": [],
   "source": [
    "for user_id, interest in interests:\n",
    "    user_ids_by_interest[interest].append(user_id)"
   ]
  },
  {
   "cell_type": "code",
   "execution_count": 98,
   "id": "wound-villa",
   "metadata": {},
   "outputs": [
    {
     "data": {
      "text/plain": [
       "defaultdict(list,\n",
       "            {'Hadoop': [0],\n",
       "             'Big Data': [0],\n",
       "             'HBase': [0, 1],\n",
       "             'Java': [0, 5],\n",
       "             'Spark': [0],\n",
       "             'Storm': [0, 0],\n",
       "             'NoSQL': [1],\n",
       "             'MongoDB': [1],\n",
       "             'Cassandra': [1],\n",
       "             'Postgres': [1],\n",
       "             'Python': [2, 3, 5],\n",
       "             'scikit-learn': [2],\n",
       "             'statsmodels': [2],\n",
       "             'pandas': [2, 3],\n",
       "             'R': [3, 5],\n",
       "             'statistics': [3],\n",
       "             'regression': [3, 4],\n",
       "             'probability': [3],\n",
       "             'machine learning': [4],\n",
       "             'decision trees': [4],\n",
       "             'libsvm': [4],\n",
       "             'C++': [5],\n",
       "             'Haskell': [5],\n",
       "             'programming languages': [5]})"
      ]
     },
     "execution_count": 98,
     "metadata": {},
     "output_type": "execute_result"
    }
   ],
   "source": [
    "user_ids_by_interest"
   ]
  },
  {
   "cell_type": "code",
   "execution_count": 99,
   "id": "medieval-accounting",
   "metadata": {},
   "outputs": [
    {
     "data": {
      "text/plain": [
       "[2, 3, 5]"
      ]
     },
     "execution_count": 99,
     "metadata": {},
     "output_type": "execute_result"
    }
   ],
   "source": [
    "user_ids_by_interest[\"Python\"]"
   ]
  },
  {
   "cell_type": "code",
   "execution_count": 100,
   "id": "nominated-david",
   "metadata": {},
   "outputs": [
    {
     "data": {
      "text/plain": [
       "defaultdict(list,\n",
       "            {0: ['Hadoop',\n",
       "              'Big Data',\n",
       "              'HBase',\n",
       "              'Java',\n",
       "              'Spark',\n",
       "              'Storm',\n",
       "              'Storm'],\n",
       "             1: ['NoSQL', 'MongoDB', 'Cassandra', 'HBase', 'Postgres'],\n",
       "             2: ['Python', 'scikit-learn', 'statsmodels', 'pandas'],\n",
       "             3: ['R',\n",
       "              'Python',\n",
       "              'statistics',\n",
       "              'regression',\n",
       "              'probability',\n",
       "              'pandas'],\n",
       "             4: ['machine learning', 'regression', 'decision trees', 'libsvm'],\n",
       "             5: ['Python',\n",
       "              'R',\n",
       "              'Java',\n",
       "              'C++',\n",
       "              'Haskell',\n",
       "              'programming languages']})"
      ]
     },
     "execution_count": 100,
     "metadata": {},
     "output_type": "execute_result"
    }
   ],
   "source": [
    "interests_by_user_id = defaultdict(list)\n",
    "for user_id, interest in interests:\n",
    "    interests_by_user_id[user_id].append(interest)\n",
    "interests_by_user_id"
   ]
  },
  {
   "cell_type": "code",
   "execution_count": 101,
   "id": "affected-postcard",
   "metadata": {},
   "outputs": [],
   "source": [
    "def most_common_interests_with(user):\n",
    "    return Counter(\n",
    "        interest_user_id\n",
    "        for interest in interests_by_user_id[user[\"id\"]]\n",
    "        for interest_user_id in user_ids_by_interest[interest]\n",
    "        if interest_user_id != user[\"id\"]\n",
    "    )"
   ]
  },
  {
   "cell_type": "code",
   "execution_count": 102,
   "id": "welcome-maryland",
   "metadata": {},
   "outputs": [
    {
     "data": {
      "text/plain": [
       "Counter({3: 2, 5: 1})"
      ]
     },
     "execution_count": 102,
     "metadata": {},
     "output_type": "execute_result"
    }
   ],
   "source": [
    "most_common_interests_with(users[2])"
   ]
  },
  {
   "cell_type": "code",
   "execution_count": null,
   "id": "saving-period",
   "metadata": {},
   "outputs": [],
   "source": []
  }
 ],
 "metadata": {
  "kernelspec": {
   "display_name": "Python 3",
   "language": "python",
   "name": "python3"
  },
  "language_info": {
   "codemirror_mode": {
    "name": "ipython",
    "version": 3
   },
   "file_extension": ".py",
   "mimetype": "text/x-python",
   "name": "python",
   "nbconvert_exporter": "python",
   "pygments_lexer": "ipython3",
   "version": "3.6.13"
  }
 },
 "nbformat": 4,
 "nbformat_minor": 5
}
