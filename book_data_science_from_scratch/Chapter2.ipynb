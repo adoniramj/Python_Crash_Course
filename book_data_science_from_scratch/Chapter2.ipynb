{
 "cells": [
  {
   "cell_type": "code",
   "execution_count": 1,
   "id": "emerging-bottom",
   "metadata": {},
   "outputs": [],
   "source": [
    "easier_to_read_list_of_lists = [[1, 2, 3],\n",
    "                                [4, 5, 6], \n",
    "                                [7, 8 ,9]\n",
    "                               ]"
   ]
  },
  {
   "cell_type": "code",
   "execution_count": 41,
   "id": "original-basin",
   "metadata": {},
   "outputs": [],
   "source": [
    "document =\"Imagine that you're trying to count the words in a document. An obvious approach is to create a dictionary in which the keys are words and the values are counts. As you check \\\n",
    "each word, you can increment its count if it's already in the dictionary and add it to the dictionary if it's not.\""
   ]
  },
  {
   "cell_type": "code",
   "execution_count": 42,
   "id": "exotic-angel",
   "metadata": {},
   "outputs": [],
   "source": [
    "list_of_words = document.split()"
   ]
  },
  {
   "cell_type": "code",
   "execution_count": 43,
   "id": "standing-reform",
   "metadata": {},
   "outputs": [],
   "source": [
    "from collections import defaultdict"
   ]
  },
  {
   "cell_type": "code",
   "execution_count": 53,
   "id": "appointed-oracle",
   "metadata": {},
   "outputs": [],
   "source": [
    "count_of_words = defaultdict(int)"
   ]
  },
  {
   "cell_type": "code",
   "execution_count": 54,
   "id": "average-smell",
   "metadata": {},
   "outputs": [],
   "source": [
    "for word in list_of_words:\n",
    "    count_of_words[word.lower()] += 1"
   ]
  },
  {
   "cell_type": "code",
   "execution_count": 55,
   "id": "stuffed-world",
   "metadata": {},
   "outputs": [
    {
     "data": {
      "text/plain": [
       "defaultdict(int,\n",
       "            {'imagine': 1,\n",
       "             'that': 1,\n",
       "             \"you're\": 1,\n",
       "             'trying': 1,\n",
       "             'to': 3,\n",
       "             'count': 2,\n",
       "             'the': 5,\n",
       "             'words': 2,\n",
       "             'in': 3,\n",
       "             'a': 2,\n",
       "             'document.': 1,\n",
       "             'an': 1,\n",
       "             'obvious': 1,\n",
       "             'approach': 1,\n",
       "             'is': 1,\n",
       "             'create': 1,\n",
       "             'dictionary': 3,\n",
       "             'which': 1,\n",
       "             'keys': 1,\n",
       "             'are': 2,\n",
       "             'and': 2,\n",
       "             'values': 1,\n",
       "             'counts.': 1,\n",
       "             'as': 1,\n",
       "             'you': 2,\n",
       "             'check': 1,\n",
       "             'each': 1,\n",
       "             'word,': 1,\n",
       "             'can': 1,\n",
       "             'increment': 1,\n",
       "             'its': 1,\n",
       "             'if': 2,\n",
       "             \"it's\": 2,\n",
       "             'already': 1,\n",
       "             'add': 1,\n",
       "             'it': 1,\n",
       "             'not.': 1})"
      ]
     },
     "execution_count": 55,
     "metadata": {},
     "output_type": "execute_result"
    }
   ],
   "source": [
    "count_of_words"
   ]
  },
  {
   "cell_type": "code",
   "execution_count": 48,
   "id": "dedicated-spanish",
   "metadata": {},
   "outputs": [],
   "source": [
    "from collections import Counter\n",
    "words_and_count = Counter(word.lower() for word in list_of_words)"
   ]
  },
  {
   "cell_type": "code",
   "execution_count": 50,
   "id": "massive-construction",
   "metadata": {},
   "outputs": [
    {
     "name": "stdout",
     "output_type": "stream",
     "text": [
      "the 5\n",
      "to 3\n",
      "in 3\n",
      "dictionary 3\n",
      "count 2\n",
      "words 2\n",
      "a 2\n",
      "are 2\n",
      "and 2\n",
      "you 2\n",
      "if 2\n",
      "it's 2\n",
      "imagine 1\n",
      "that 1\n",
      "you're 1\n",
      "trying 1\n",
      "document. 1\n",
      "an 1\n",
      "obvious 1\n",
      "approach 1\n",
      "is 1\n",
      "create 1\n",
      "which 1\n",
      "keys 1\n",
      "values 1\n",
      "counts. 1\n",
      "as 1\n",
      "check 1\n",
      "each 1\n",
      "word, 1\n",
      "can 1\n",
      "increment 1\n",
      "its 1\n",
      "already 1\n",
      "add 1\n",
      "it 1\n",
      "not. 1\n"
     ]
    }
   ],
   "source": [
    "for word, count in words_and_count.most_common():\n",
    "    print(word, count)"
   ]
  },
  {
   "cell_type": "code",
   "execution_count": null,
   "id": "stretch-reunion",
   "metadata": {},
   "outputs": [],
   "source": []
  }
 ],
 "metadata": {
  "kernelspec": {
   "display_name": "Python 3",
   "language": "python",
   "name": "python3"
  },
  "language_info": {
   "codemirror_mode": {
    "name": "ipython",
    "version": 3
   },
   "file_extension": ".py",
   "mimetype": "text/x-python",
   "name": "python",
   "nbconvert_exporter": "python",
   "pygments_lexer": "ipython3",
   "version": "3.7.10"
  }
 },
 "nbformat": 4,
 "nbformat_minor": 5
}
